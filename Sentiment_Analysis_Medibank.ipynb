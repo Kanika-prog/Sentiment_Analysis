{
  "nbformat": 4,
  "nbformat_minor": 0,
  "metadata": {
    "colab": {
      "provenance": []
    },
    "kernelspec": {
      "name": "python3",
      "display_name": "Python 3"
    },
    "language_info": {
      "name": "python"
    }
  },
  "cells": [
    {
      "cell_type": "markdown",
      "source": [
        "# **Sentiment Analysis of Medibank**\n"
      ],
      "metadata": {
        "id": "eEwlZxu8mJdv"
      }
    },
    {
      "cell_type": "markdown",
      "source": [
        "## Installing the Libraries"
      ],
      "metadata": {
        "id": "hspySVPOreXy"
      }
    },
    {
      "cell_type": "code",
      "source": [
        "# Installing required libraries\n",
        "\n",
        "# Install pyLDAvis library for interactive topic visualization dashboard.\n",
        "!pip install pyLDAvis\n"
      ],
      "metadata": {
        "id": "kw7X2uMharkK"
      },
      "execution_count": null,
      "outputs": []
    },
    {
      "cell_type": "markdown",
      "source": [
        "## Loading the Libraries"
      ],
      "metadata": {
        "id": "D1AgnIrVnt1g"
      }
    },
    {
      "cell_type": "code",
      "source": [
        "# Loading primary libraries.\n",
        "import pandas as pd\n",
        "import numpy as np\n",
        "import matplotlib.pyplot as plt\n",
        "import seaborn as sns\n",
        "import os\n",
        "\n",
        "# For text processing\n",
        "import re\n",
        "from textblob import TextBlob\n",
        "import gensim\n",
        "import logging\n",
        "import tempfile\n",
        "from gensim import corpora, models, similarities\n",
        "from sklearn.feature_extraction.text import CountVectorizer\n",
        "import pyLDAvis.gensim_models"
      ],
      "metadata": {
        "id": "W6tb1hv41gSz",
        "colab": {
          "base_uri": "https://localhost:8080/"
        },
        "outputId": "bbc1b870-afb0-49bb-e11e-ccd549380d16"
      },
      "execution_count": null,
      "outputs": [
        {
          "output_type": "stream",
          "name": "stderr",
          "text": [
            "/usr/local/lib/python3.9/dist-packages/ipykernel/ipkernel.py:283: DeprecationWarning: `should_run_async` will not call `transform_cell` automatically in the future. Please pass the result to `transformed_cell` argument and any exception that happen during thetransform in `preprocessing_exc_tuple` in IPython 7.17 and above.\n",
            "  and should_run_async(code)\n"
          ]
        }
      ]
    },
    {
      "cell_type": "code",
      "execution_count": null,
      "metadata": {
        "colab": {
          "base_uri": "https://localhost:8080/",
          "height": 391
        },
        "id": "E6NXvKwUzIIf",
        "outputId": "67121616-55fe-42c4-ac22-d1b188c54f1d"
      },
      "outputs": [
        {
          "output_type": "stream",
          "name": "stderr",
          "text": [
            "/usr/local/lib/python3.9/dist-packages/ipykernel/ipkernel.py:283: DeprecationWarning: `should_run_async` will not call `transform_cell` automatically in the future. Please pass the result to `transformed_cell` argument and any exception that happen during thetransform in `preprocessing_exc_tuple` in IPython 7.17 and above.\n",
            "  and should_run_async(code)\n"
          ]
        },
        {
          "output_type": "execute_result",
          "data": {
            "text/plain": [
              "                    id                 created_at        date      time  \\\n",
              "0  1513321640431550474  2022-04-11 01:02:49+00:00  2022-04-11  01:02:49   \n",
              "1  1513303462796271616  2022-04-10 23:50:36+00:00  2022-04-10  23:50:36   \n",
              "2  1513285115522457600  2022-04-10 22:37:41+00:00  2022-04-10  22:37:41   \n",
              "3  1513254396989108226  2022-04-10 20:35:37+00:00  2022-04-10  20:35:37   \n",
              "4  1513127072264519686  2022-04-10 12:09:41+00:00  2022-04-10  12:09:41   \n",
              "\n",
              "          username                                              name  \\\n",
              "0     parkesstreet                                        Bernie Cox   \n",
              "1    shanebakeract                                       Shane Baker   \n",
              "2        pceebee23                                          ceebee23   \n",
              "3       russputin2  Russell Drysdale # IStandbyDan, Louise &Brittany   \n",
              "4  gabrielschind13                                               Gab   \n",
              "\n",
              "                                               tweet language hashtags  \n",
              "0  @AustralianLabor After the Fraser Government d...       en       []  \n",
              "1  @LuckiePhil1 @vince05656201 @LiberalAus Actual...       en       []  \n",
              "2  @kels_316 @AustralianLabor to be fair to both ...       en       []  \n",
              "3  @GregHuntMP Actually Greg, Labor invented the ...       en       []  \n",
              "4  @Rheenie_85 So we don't have education for all...       en       []  "
            ],
            "text/html": [
              "\n",
              "  <div id=\"df-db8b462f-e42d-42f6-8312-7c1082036ff6\">\n",
              "    <div class=\"colab-df-container\">\n",
              "      <div>\n",
              "<style scoped>\n",
              "    .dataframe tbody tr th:only-of-type {\n",
              "        vertical-align: middle;\n",
              "    }\n",
              "\n",
              "    .dataframe tbody tr th {\n",
              "        vertical-align: top;\n",
              "    }\n",
              "\n",
              "    .dataframe thead th {\n",
              "        text-align: right;\n",
              "    }\n",
              "</style>\n",
              "<table border=\"1\" class=\"dataframe\">\n",
              "  <thead>\n",
              "    <tr style=\"text-align: right;\">\n",
              "      <th></th>\n",
              "      <th>id</th>\n",
              "      <th>created_at</th>\n",
              "      <th>date</th>\n",
              "      <th>time</th>\n",
              "      <th>username</th>\n",
              "      <th>name</th>\n",
              "      <th>tweet</th>\n",
              "      <th>language</th>\n",
              "      <th>hashtags</th>\n",
              "    </tr>\n",
              "  </thead>\n",
              "  <tbody>\n",
              "    <tr>\n",
              "      <th>0</th>\n",
              "      <td>1513321640431550474</td>\n",
              "      <td>2022-04-11 01:02:49+00:00</td>\n",
              "      <td>2022-04-11</td>\n",
              "      <td>01:02:49</td>\n",
              "      <td>parkesstreet</td>\n",
              "      <td>Bernie Cox</td>\n",
              "      <td>@AustralianLabor After the Fraser Government d...</td>\n",
              "      <td>en</td>\n",
              "      <td>[]</td>\n",
              "    </tr>\n",
              "    <tr>\n",
              "      <th>1</th>\n",
              "      <td>1513303462796271616</td>\n",
              "      <td>2022-04-10 23:50:36+00:00</td>\n",
              "      <td>2022-04-10</td>\n",
              "      <td>23:50:36</td>\n",
              "      <td>shanebakeract</td>\n",
              "      <td>Shane Baker</td>\n",
              "      <td>@LuckiePhil1 @vince05656201 @LiberalAus Actual...</td>\n",
              "      <td>en</td>\n",
              "      <td>[]</td>\n",
              "    </tr>\n",
              "    <tr>\n",
              "      <th>2</th>\n",
              "      <td>1513285115522457600</td>\n",
              "      <td>2022-04-10 22:37:41+00:00</td>\n",
              "      <td>2022-04-10</td>\n",
              "      <td>22:37:41</td>\n",
              "      <td>pceebee23</td>\n",
              "      <td>ceebee23</td>\n",
              "      <td>@kels_316 @AustralianLabor to be fair to both ...</td>\n",
              "      <td>en</td>\n",
              "      <td>[]</td>\n",
              "    </tr>\n",
              "    <tr>\n",
              "      <th>3</th>\n",
              "      <td>1513254396989108226</td>\n",
              "      <td>2022-04-10 20:35:37+00:00</td>\n",
              "      <td>2022-04-10</td>\n",
              "      <td>20:35:37</td>\n",
              "      <td>russputin2</td>\n",
              "      <td>Russell Drysdale # IStandbyDan, Louise &amp;Brittany</td>\n",
              "      <td>@GregHuntMP Actually Greg, Labor invented the ...</td>\n",
              "      <td>en</td>\n",
              "      <td>[]</td>\n",
              "    </tr>\n",
              "    <tr>\n",
              "      <th>4</th>\n",
              "      <td>1513127072264519686</td>\n",
              "      <td>2022-04-10 12:09:41+00:00</td>\n",
              "      <td>2022-04-10</td>\n",
              "      <td>12:09:41</td>\n",
              "      <td>gabrielschind13</td>\n",
              "      <td>Gab</td>\n",
              "      <td>@Rheenie_85 So we don't have education for all...</td>\n",
              "      <td>en</td>\n",
              "      <td>[]</td>\n",
              "    </tr>\n",
              "  </tbody>\n",
              "</table>\n",
              "</div>\n",
              "      <button class=\"colab-df-convert\" onclick=\"convertToInteractive('df-db8b462f-e42d-42f6-8312-7c1082036ff6')\"\n",
              "              title=\"Convert this dataframe to an interactive table.\"\n",
              "              style=\"display:none;\">\n",
              "        \n",
              "  <svg xmlns=\"http://www.w3.org/2000/svg\" height=\"24px\"viewBox=\"0 0 24 24\"\n",
              "       width=\"24px\">\n",
              "    <path d=\"M0 0h24v24H0V0z\" fill=\"none\"/>\n",
              "    <path d=\"M18.56 5.44l.94 2.06.94-2.06 2.06-.94-2.06-.94-.94-2.06-.94 2.06-2.06.94zm-11 1L8.5 8.5l.94-2.06 2.06-.94-2.06-.94L8.5 2.5l-.94 2.06-2.06.94zm10 10l.94 2.06.94-2.06 2.06-.94-2.06-.94-.94-2.06-.94 2.06-2.06.94z\"/><path d=\"M17.41 7.96l-1.37-1.37c-.4-.4-.92-.59-1.43-.59-.52 0-1.04.2-1.43.59L10.3 9.45l-7.72 7.72c-.78.78-.78 2.05 0 2.83L4 21.41c.39.39.9.59 1.41.59.51 0 1.02-.2 1.41-.59l7.78-7.78 2.81-2.81c.8-.78.8-2.07 0-2.86zM5.41 20L4 18.59l7.72-7.72 1.47 1.35L5.41 20z\"/>\n",
              "  </svg>\n",
              "      </button>\n",
              "      \n",
              "  <style>\n",
              "    .colab-df-container {\n",
              "      display:flex;\n",
              "      flex-wrap:wrap;\n",
              "      gap: 12px;\n",
              "    }\n",
              "\n",
              "    .colab-df-convert {\n",
              "      background-color: #E8F0FE;\n",
              "      border: none;\n",
              "      border-radius: 50%;\n",
              "      cursor: pointer;\n",
              "      display: none;\n",
              "      fill: #1967D2;\n",
              "      height: 32px;\n",
              "      padding: 0 0 0 0;\n",
              "      width: 32px;\n",
              "    }\n",
              "\n",
              "    .colab-df-convert:hover {\n",
              "      background-color: #E2EBFA;\n",
              "      box-shadow: 0px 1px 2px rgba(60, 64, 67, 0.3), 0px 1px 3px 1px rgba(60, 64, 67, 0.15);\n",
              "      fill: #174EA6;\n",
              "    }\n",
              "\n",
              "    [theme=dark] .colab-df-convert {\n",
              "      background-color: #3B4455;\n",
              "      fill: #D2E3FC;\n",
              "    }\n",
              "\n",
              "    [theme=dark] .colab-df-convert:hover {\n",
              "      background-color: #434B5C;\n",
              "      box-shadow: 0px 1px 3px 1px rgba(0, 0, 0, 0.15);\n",
              "      filter: drop-shadow(0px 1px 2px rgba(0, 0, 0, 0.3));\n",
              "      fill: #FFFFFF;\n",
              "    }\n",
              "  </style>\n",
              "\n",
              "      <script>\n",
              "        const buttonEl =\n",
              "          document.querySelector('#df-db8b462f-e42d-42f6-8312-7c1082036ff6 button.colab-df-convert');\n",
              "        buttonEl.style.display =\n",
              "          google.colab.kernel.accessAllowed ? 'block' : 'none';\n",
              "\n",
              "        async function convertToInteractive(key) {\n",
              "          const element = document.querySelector('#df-db8b462f-e42d-42f6-8312-7c1082036ff6');\n",
              "          const dataTable =\n",
              "            await google.colab.kernel.invokeFunction('convertToInteractive',\n",
              "                                                     [key], {});\n",
              "          if (!dataTable) return;\n",
              "\n",
              "          const docLinkHtml = 'Like what you see? Visit the ' +\n",
              "            '<a target=\"_blank\" href=https://colab.research.google.com/notebooks/data_table.ipynb>data table notebook</a>'\n",
              "            + ' to learn more about interactive tables.';\n",
              "          element.innerHTML = '';\n",
              "          dataTable['output_type'] = 'display_data';\n",
              "          await google.colab.output.renderOutput(dataTable, element);\n",
              "          const docLink = document.createElement('div');\n",
              "          docLink.innerHTML = docLinkHtml;\n",
              "          element.appendChild(docLink);\n",
              "        }\n",
              "      </script>\n",
              "    </div>\n",
              "  </div>\n",
              "  "
            ]
          },
          "metadata": {},
          "execution_count": 170
        }
      ],
      "source": [
        "# Loading the dataset\n",
        "df = pd.read_csv(\"Dataset 1 - Medibank.csv\")\n",
        "df.head(5)"
      ]
    },
    {
      "cell_type": "code",
      "source": [
        "# Summary of the dataset\n",
        "df.info()"
      ],
      "metadata": {
        "colab": {
          "base_uri": "https://localhost:8080/"
        },
        "id": "XBg5lQiy1r54",
        "outputId": "48bb0306-2a27-427a-9ca0-2242245e44a9"
      },
      "execution_count": null,
      "outputs": [
        {
          "output_type": "stream",
          "name": "stdout",
          "text": [
            "<class 'pandas.core.frame.DataFrame'>\n",
            "RangeIndex: 21067 entries, 0 to 21066\n",
            "Data columns (total 9 columns):\n",
            " #   Column      Non-Null Count  Dtype \n",
            "---  ------      --------------  ----- \n",
            " 0   id          21067 non-null  object\n",
            " 1   created_at  21067 non-null  object\n",
            " 2   date        21067 non-null  object\n",
            " 3   time        21063 non-null  object\n",
            " 4   username    21063 non-null  object\n",
            " 5   name        21063 non-null  object\n",
            " 6   tweet       21063 non-null  object\n",
            " 7   language    21059 non-null  object\n",
            " 8   hashtags    21059 non-null  object\n",
            "dtypes: object(9)\n",
            "memory usage: 1.4+ MB\n"
          ]
        },
        {
          "output_type": "stream",
          "name": "stderr",
          "text": [
            "/usr/local/lib/python3.9/dist-packages/ipykernel/ipkernel.py:283: DeprecationWarning: `should_run_async` will not call `transform_cell` automatically in the future. Please pass the result to `transformed_cell` argument and any exception that happen during thetransform in `preprocessing_exc_tuple` in IPython 7.17 and above.\n",
            "  and should_run_async(code)\n"
          ]
        }
      ]
    },
    {
      "cell_type": "markdown",
      "source": [
        "## Preliminary Analysis"
      ],
      "metadata": {
        "id": "OFsvgPZq2Ocj"
      }
    },
    {
      "cell_type": "code",
      "source": [
        "# Creating a duplicate dataframe\n",
        "df_medibank = df\n",
        "df_medibank"
      ],
      "metadata": {
        "colab": {
          "base_uri": "https://localhost:8080/",
          "height": 696
        },
        "id": "5ORmkym-2Zyb",
        "outputId": "f3b92fcd-522c-4fbd-8016-05f4cb34541b"
      },
      "execution_count": null,
      "outputs": [
        {
          "output_type": "stream",
          "name": "stderr",
          "text": [
            "/usr/local/lib/python3.9/dist-packages/ipykernel/ipkernel.py:283: DeprecationWarning: `should_run_async` will not call `transform_cell` automatically in the future. Please pass the result to `transformed_cell` argument and any exception that happen during thetransform in `preprocessing_exc_tuple` in IPython 7.17 and above.\n",
            "  and should_run_async(code)\n"
          ]
        },
        {
          "output_type": "execute_result",
          "data": {
            "text/plain": [
              "                        id                 created_at        date      time  \\\n",
              "0      1513321640431550474  2022-04-11 01:02:49+00:00  2022-04-11  01:02:49   \n",
              "1      1513303462796271616  2022-04-10 23:50:36+00:00  2022-04-10  23:50:36   \n",
              "2      1513285115522457600  2022-04-10 22:37:41+00:00  2022-04-10  22:37:41   \n",
              "3      1513254396989108226  2022-04-10 20:35:37+00:00  2022-04-10  20:35:37   \n",
              "4      1513127072264519686  2022-04-10 12:09:41+00:00  2022-04-10  12:09:41   \n",
              "...                    ...                        ...         ...       ...   \n",
              "21062   815671452896784384  2017-01-01 21:30:03+00:00  2017-01-01  21:30:03   \n",
              "21063   815526386689404928  2017-01-01 11:53:36+00:00  2017-01-01  11:53:36   \n",
              "21064   815419270611935232  2017-01-01 04:47:58+00:00  2017-01-01  04:47:58   \n",
              "21065   815399667819315201  2017-01-01 03:30:04+00:00  2017-01-01  03:30:04   \n",
              "21066   815390599851307008  2017-01-01 02:54:02+00:00  2017-01-01  02:54:02   \n",
              "\n",
              "              username                                              name  \\\n",
              "0         parkesstreet                                        Bernie Cox   \n",
              "1        shanebakeract                                       Shane Baker   \n",
              "2            pceebee23                                          ceebee23   \n",
              "3           russputin2  Russell Drysdale # IStandbyDan, Louise &Brittany   \n",
              "4      gabrielschind13                                               Gab   \n",
              "...                ...                                               ...   \n",
              "21062         medibank                                          Medibank   \n",
              "21063       nyafururin                                          inactive   \n",
              "21064          donno79                                   Andrew Donnison   \n",
              "21065         medibank                                          Medibank   \n",
              "21066           s0menz                                                のん   \n",
              "\n",
              "                                                   tweet language  \\\n",
              "0      @AustralianLabor After the Fraser Government d...       en   \n",
              "1      @LuckiePhil1 @vince05656201 @LiberalAus Actual...       en   \n",
              "2      @kels_316 @AustralianLabor to be fair to both ...       en   \n",
              "3      @GregHuntMP Actually Greg, Labor invented the ...       en   \n",
              "4      @Rheenie_85 So we don't have education for all...       en   \n",
              "...                                                  ...      ...   \n",
              "21062  Simple tricks to make your plane ride more com...       en   \n",
              "21063  Medibank is weird, like- where is my colour wh...       en   \n",
              "21064  Why is Brett Lee batting in the 2nd @medibank ...       en   \n",
              "21065  The #detox recipe that will help you feel bran...       en   \n",
              "21066             @KkpPi medibankてやつす。新規登録したらトーン無料取り放題す。       ja   \n",
              "\n",
              "                        hashtags  \n",
              "0                             []  \n",
              "1                             []  \n",
              "2                             []  \n",
              "3                             []  \n",
              "4                             []  \n",
              "...                          ...  \n",
              "21062      ['travel', 'holiday']  \n",
              "21063                         []  \n",
              "21064           ['bigquestions']  \n",
              "21065  ['detox', 'happynewyear']  \n",
              "21066                         []  \n",
              "\n",
              "[21067 rows x 9 columns]"
            ],
            "text/html": [
              "\n",
              "  <div id=\"df-ee3abefe-9f20-4025-b52c-bbee4e57c9b0\">\n",
              "    <div class=\"colab-df-container\">\n",
              "      <div>\n",
              "<style scoped>\n",
              "    .dataframe tbody tr th:only-of-type {\n",
              "        vertical-align: middle;\n",
              "    }\n",
              "\n",
              "    .dataframe tbody tr th {\n",
              "        vertical-align: top;\n",
              "    }\n",
              "\n",
              "    .dataframe thead th {\n",
              "        text-align: right;\n",
              "    }\n",
              "</style>\n",
              "<table border=\"1\" class=\"dataframe\">\n",
              "  <thead>\n",
              "    <tr style=\"text-align: right;\">\n",
              "      <th></th>\n",
              "      <th>id</th>\n",
              "      <th>created_at</th>\n",
              "      <th>date</th>\n",
              "      <th>time</th>\n",
              "      <th>username</th>\n",
              "      <th>name</th>\n",
              "      <th>tweet</th>\n",
              "      <th>language</th>\n",
              "      <th>hashtags</th>\n",
              "    </tr>\n",
              "  </thead>\n",
              "  <tbody>\n",
              "    <tr>\n",
              "      <th>0</th>\n",
              "      <td>1513321640431550474</td>\n",
              "      <td>2022-04-11 01:02:49+00:00</td>\n",
              "      <td>2022-04-11</td>\n",
              "      <td>01:02:49</td>\n",
              "      <td>parkesstreet</td>\n",
              "      <td>Bernie Cox</td>\n",
              "      <td>@AustralianLabor After the Fraser Government d...</td>\n",
              "      <td>en</td>\n",
              "      <td>[]</td>\n",
              "    </tr>\n",
              "    <tr>\n",
              "      <th>1</th>\n",
              "      <td>1513303462796271616</td>\n",
              "      <td>2022-04-10 23:50:36+00:00</td>\n",
              "      <td>2022-04-10</td>\n",
              "      <td>23:50:36</td>\n",
              "      <td>shanebakeract</td>\n",
              "      <td>Shane Baker</td>\n",
              "      <td>@LuckiePhil1 @vince05656201 @LiberalAus Actual...</td>\n",
              "      <td>en</td>\n",
              "      <td>[]</td>\n",
              "    </tr>\n",
              "    <tr>\n",
              "      <th>2</th>\n",
              "      <td>1513285115522457600</td>\n",
              "      <td>2022-04-10 22:37:41+00:00</td>\n",
              "      <td>2022-04-10</td>\n",
              "      <td>22:37:41</td>\n",
              "      <td>pceebee23</td>\n",
              "      <td>ceebee23</td>\n",
              "      <td>@kels_316 @AustralianLabor to be fair to both ...</td>\n",
              "      <td>en</td>\n",
              "      <td>[]</td>\n",
              "    </tr>\n",
              "    <tr>\n",
              "      <th>3</th>\n",
              "      <td>1513254396989108226</td>\n",
              "      <td>2022-04-10 20:35:37+00:00</td>\n",
              "      <td>2022-04-10</td>\n",
              "      <td>20:35:37</td>\n",
              "      <td>russputin2</td>\n",
              "      <td>Russell Drysdale # IStandbyDan, Louise &amp;Brittany</td>\n",
              "      <td>@GregHuntMP Actually Greg, Labor invented the ...</td>\n",
              "      <td>en</td>\n",
              "      <td>[]</td>\n",
              "    </tr>\n",
              "    <tr>\n",
              "      <th>4</th>\n",
              "      <td>1513127072264519686</td>\n",
              "      <td>2022-04-10 12:09:41+00:00</td>\n",
              "      <td>2022-04-10</td>\n",
              "      <td>12:09:41</td>\n",
              "      <td>gabrielschind13</td>\n",
              "      <td>Gab</td>\n",
              "      <td>@Rheenie_85 So we don't have education for all...</td>\n",
              "      <td>en</td>\n",
              "      <td>[]</td>\n",
              "    </tr>\n",
              "    <tr>\n",
              "      <th>...</th>\n",
              "      <td>...</td>\n",
              "      <td>...</td>\n",
              "      <td>...</td>\n",
              "      <td>...</td>\n",
              "      <td>...</td>\n",
              "      <td>...</td>\n",
              "      <td>...</td>\n",
              "      <td>...</td>\n",
              "      <td>...</td>\n",
              "    </tr>\n",
              "    <tr>\n",
              "      <th>21062</th>\n",
              "      <td>815671452896784384</td>\n",
              "      <td>2017-01-01 21:30:03+00:00</td>\n",
              "      <td>2017-01-01</td>\n",
              "      <td>21:30:03</td>\n",
              "      <td>medibank</td>\n",
              "      <td>Medibank</td>\n",
              "      <td>Simple tricks to make your plane ride more com...</td>\n",
              "      <td>en</td>\n",
              "      <td>['travel', 'holiday']</td>\n",
              "    </tr>\n",
              "    <tr>\n",
              "      <th>21063</th>\n",
              "      <td>815526386689404928</td>\n",
              "      <td>2017-01-01 11:53:36+00:00</td>\n",
              "      <td>2017-01-01</td>\n",
              "      <td>11:53:36</td>\n",
              "      <td>nyafururin</td>\n",
              "      <td>inactive</td>\n",
              "      <td>Medibank is weird, like- where is my colour wh...</td>\n",
              "      <td>en</td>\n",
              "      <td>[]</td>\n",
              "    </tr>\n",
              "    <tr>\n",
              "      <th>21064</th>\n",
              "      <td>815419270611935232</td>\n",
              "      <td>2017-01-01 04:47:58+00:00</td>\n",
              "      <td>2017-01-01</td>\n",
              "      <td>04:47:58</td>\n",
              "      <td>donno79</td>\n",
              "      <td>Andrew Donnison</td>\n",
              "      <td>Why is Brett Lee batting in the 2nd @medibank ...</td>\n",
              "      <td>en</td>\n",
              "      <td>['bigquestions']</td>\n",
              "    </tr>\n",
              "    <tr>\n",
              "      <th>21065</th>\n",
              "      <td>815399667819315201</td>\n",
              "      <td>2017-01-01 03:30:04+00:00</td>\n",
              "      <td>2017-01-01</td>\n",
              "      <td>03:30:04</td>\n",
              "      <td>medibank</td>\n",
              "      <td>Medibank</td>\n",
              "      <td>The #detox recipe that will help you feel bran...</td>\n",
              "      <td>en</td>\n",
              "      <td>['detox', 'happynewyear']</td>\n",
              "    </tr>\n",
              "    <tr>\n",
              "      <th>21066</th>\n",
              "      <td>815390599851307008</td>\n",
              "      <td>2017-01-01 02:54:02+00:00</td>\n",
              "      <td>2017-01-01</td>\n",
              "      <td>02:54:02</td>\n",
              "      <td>s0menz</td>\n",
              "      <td>のん</td>\n",
              "      <td>@KkpPi medibankてやつす。新規登録したらトーン無料取り放題す。</td>\n",
              "      <td>ja</td>\n",
              "      <td>[]</td>\n",
              "    </tr>\n",
              "  </tbody>\n",
              "</table>\n",
              "<p>21067 rows × 9 columns</p>\n",
              "</div>\n",
              "      <button class=\"colab-df-convert\" onclick=\"convertToInteractive('df-ee3abefe-9f20-4025-b52c-bbee4e57c9b0')\"\n",
              "              title=\"Convert this dataframe to an interactive table.\"\n",
              "              style=\"display:none;\">\n",
              "        \n",
              "  <svg xmlns=\"http://www.w3.org/2000/svg\" height=\"24px\"viewBox=\"0 0 24 24\"\n",
              "       width=\"24px\">\n",
              "    <path d=\"M0 0h24v24H0V0z\" fill=\"none\"/>\n",
              "    <path d=\"M18.56 5.44l.94 2.06.94-2.06 2.06-.94-2.06-.94-.94-2.06-.94 2.06-2.06.94zm-11 1L8.5 8.5l.94-2.06 2.06-.94-2.06-.94L8.5 2.5l-.94 2.06-2.06.94zm10 10l.94 2.06.94-2.06 2.06-.94-2.06-.94-.94-2.06-.94 2.06-2.06.94z\"/><path d=\"M17.41 7.96l-1.37-1.37c-.4-.4-.92-.59-1.43-.59-.52 0-1.04.2-1.43.59L10.3 9.45l-7.72 7.72c-.78.78-.78 2.05 0 2.83L4 21.41c.39.39.9.59 1.41.59.51 0 1.02-.2 1.41-.59l7.78-7.78 2.81-2.81c.8-.78.8-2.07 0-2.86zM5.41 20L4 18.59l7.72-7.72 1.47 1.35L5.41 20z\"/>\n",
              "  </svg>\n",
              "      </button>\n",
              "      \n",
              "  <style>\n",
              "    .colab-df-container {\n",
              "      display:flex;\n",
              "      flex-wrap:wrap;\n",
              "      gap: 12px;\n",
              "    }\n",
              "\n",
              "    .colab-df-convert {\n",
              "      background-color: #E8F0FE;\n",
              "      border: none;\n",
              "      border-radius: 50%;\n",
              "      cursor: pointer;\n",
              "      display: none;\n",
              "      fill: #1967D2;\n",
              "      height: 32px;\n",
              "      padding: 0 0 0 0;\n",
              "      width: 32px;\n",
              "    }\n",
              "\n",
              "    .colab-df-convert:hover {\n",
              "      background-color: #E2EBFA;\n",
              "      box-shadow: 0px 1px 2px rgba(60, 64, 67, 0.3), 0px 1px 3px 1px rgba(60, 64, 67, 0.15);\n",
              "      fill: #174EA6;\n",
              "    }\n",
              "\n",
              "    [theme=dark] .colab-df-convert {\n",
              "      background-color: #3B4455;\n",
              "      fill: #D2E3FC;\n",
              "    }\n",
              "\n",
              "    [theme=dark] .colab-df-convert:hover {\n",
              "      background-color: #434B5C;\n",
              "      box-shadow: 0px 1px 3px 1px rgba(0, 0, 0, 0.15);\n",
              "      filter: drop-shadow(0px 1px 2px rgba(0, 0, 0, 0.3));\n",
              "      fill: #FFFFFF;\n",
              "    }\n",
              "  </style>\n",
              "\n",
              "      <script>\n",
              "        const buttonEl =\n",
              "          document.querySelector('#df-ee3abefe-9f20-4025-b52c-bbee4e57c9b0 button.colab-df-convert');\n",
              "        buttonEl.style.display =\n",
              "          google.colab.kernel.accessAllowed ? 'block' : 'none';\n",
              "\n",
              "        async function convertToInteractive(key) {\n",
              "          const element = document.querySelector('#df-ee3abefe-9f20-4025-b52c-bbee4e57c9b0');\n",
              "          const dataTable =\n",
              "            await google.colab.kernel.invokeFunction('convertToInteractive',\n",
              "                                                     [key], {});\n",
              "          if (!dataTable) return;\n",
              "\n",
              "          const docLinkHtml = 'Like what you see? Visit the ' +\n",
              "            '<a target=\"_blank\" href=https://colab.research.google.com/notebooks/data_table.ipynb>data table notebook</a>'\n",
              "            + ' to learn more about interactive tables.';\n",
              "          element.innerHTML = '';\n",
              "          dataTable['output_type'] = 'display_data';\n",
              "          await google.colab.output.renderOutput(dataTable, element);\n",
              "          const docLink = document.createElement('div');\n",
              "          docLink.innerHTML = docLinkHtml;\n",
              "          element.appendChild(docLink);\n",
              "        }\n",
              "      </script>\n",
              "    </div>\n",
              "  </div>\n",
              "  "
            ]
          },
          "metadata": {},
          "execution_count": 172
        }
      ]
    },
    {
      "cell_type": "code",
      "source": [
        "# Counting the number of words in each sentence\n",
        "# Assigning the word count to a new attribute named 'word_count'\n",
        "\n",
        "def word_counter(document):\n",
        "  split_word = str(document).split(\" \") # split by white space\n",
        "  word_count = len(split_word) # count the words\n",
        "  return word_count\n",
        "\n",
        "df_medibank['word_count_function'] = df_medibank['tweet'].apply(word_counter)\n",
        "df_medibank"
      ],
      "metadata": {
        "colab": {
          "base_uri": "https://localhost:8080/",
          "height": 713
        },
        "id": "_Bh6ttAZ1vrC",
        "outputId": "fea76982-f133-427a-954a-08f0fb468f62"
      },
      "execution_count": null,
      "outputs": [
        {
          "output_type": "stream",
          "name": "stderr",
          "text": [
            "/usr/local/lib/python3.9/dist-packages/ipykernel/ipkernel.py:283: DeprecationWarning: `should_run_async` will not call `transform_cell` automatically in the future. Please pass the result to `transformed_cell` argument and any exception that happen during thetransform in `preprocessing_exc_tuple` in IPython 7.17 and above.\n",
            "  and should_run_async(code)\n"
          ]
        },
        {
          "output_type": "execute_result",
          "data": {
            "text/plain": [
              "                        id                 created_at        date      time  \\\n",
              "0      1513321640431550474  2022-04-11 01:02:49+00:00  2022-04-11  01:02:49   \n",
              "1      1513303462796271616  2022-04-10 23:50:36+00:00  2022-04-10  23:50:36   \n",
              "2      1513285115522457600  2022-04-10 22:37:41+00:00  2022-04-10  22:37:41   \n",
              "3      1513254396989108226  2022-04-10 20:35:37+00:00  2022-04-10  20:35:37   \n",
              "4      1513127072264519686  2022-04-10 12:09:41+00:00  2022-04-10  12:09:41   \n",
              "...                    ...                        ...         ...       ...   \n",
              "21062   815671452896784384  2017-01-01 21:30:03+00:00  2017-01-01  21:30:03   \n",
              "21063   815526386689404928  2017-01-01 11:53:36+00:00  2017-01-01  11:53:36   \n",
              "21064   815419270611935232  2017-01-01 04:47:58+00:00  2017-01-01  04:47:58   \n",
              "21065   815399667819315201  2017-01-01 03:30:04+00:00  2017-01-01  03:30:04   \n",
              "21066   815390599851307008  2017-01-01 02:54:02+00:00  2017-01-01  02:54:02   \n",
              "\n",
              "              username                                              name  \\\n",
              "0         parkesstreet                                        Bernie Cox   \n",
              "1        shanebakeract                                       Shane Baker   \n",
              "2            pceebee23                                          ceebee23   \n",
              "3           russputin2  Russell Drysdale # IStandbyDan, Louise &Brittany   \n",
              "4      gabrielschind13                                               Gab   \n",
              "...                ...                                               ...   \n",
              "21062         medibank                                          Medibank   \n",
              "21063       nyafururin                                          inactive   \n",
              "21064          donno79                                   Andrew Donnison   \n",
              "21065         medibank                                          Medibank   \n",
              "21066           s0menz                                                のん   \n",
              "\n",
              "                                                   tweet language  \\\n",
              "0      @AustralianLabor After the Fraser Government d...       en   \n",
              "1      @LuckiePhil1 @vince05656201 @LiberalAus Actual...       en   \n",
              "2      @kels_316 @AustralianLabor to be fair to both ...       en   \n",
              "3      @GregHuntMP Actually Greg, Labor invented the ...       en   \n",
              "4      @Rheenie_85 So we don't have education for all...       en   \n",
              "...                                                  ...      ...   \n",
              "21062  Simple tricks to make your plane ride more com...       en   \n",
              "21063  Medibank is weird, like- where is my colour wh...       en   \n",
              "21064  Why is Brett Lee batting in the 2nd @medibank ...       en   \n",
              "21065  The #detox recipe that will help you feel bran...       en   \n",
              "21066             @KkpPi medibankてやつす。新規登録したらトーン無料取り放題す。       ja   \n",
              "\n",
              "                        hashtags  word_count_function  \n",
              "0                             []                   26  \n",
              "1                             []                   21  \n",
              "2                             []                   52  \n",
              "3                             []                   48  \n",
              "4                             []                   22  \n",
              "...                          ...                  ...  \n",
              "21062      ['travel', 'holiday']                   15  \n",
              "21063                         []                   13  \n",
              "21064           ['bigquestions']                   24  \n",
              "21065  ['detox', 'happynewyear']                   15  \n",
              "21066                         []                    2  \n",
              "\n",
              "[21067 rows x 10 columns]"
            ],
            "text/html": [
              "\n",
              "  <div id=\"df-5ea0c85c-d068-4b65-8e40-7e8ae3811654\">\n",
              "    <div class=\"colab-df-container\">\n",
              "      <div>\n",
              "<style scoped>\n",
              "    .dataframe tbody tr th:only-of-type {\n",
              "        vertical-align: middle;\n",
              "    }\n",
              "\n",
              "    .dataframe tbody tr th {\n",
              "        vertical-align: top;\n",
              "    }\n",
              "\n",
              "    .dataframe thead th {\n",
              "        text-align: right;\n",
              "    }\n",
              "</style>\n",
              "<table border=\"1\" class=\"dataframe\">\n",
              "  <thead>\n",
              "    <tr style=\"text-align: right;\">\n",
              "      <th></th>\n",
              "      <th>id</th>\n",
              "      <th>created_at</th>\n",
              "      <th>date</th>\n",
              "      <th>time</th>\n",
              "      <th>username</th>\n",
              "      <th>name</th>\n",
              "      <th>tweet</th>\n",
              "      <th>language</th>\n",
              "      <th>hashtags</th>\n",
              "      <th>word_count_function</th>\n",
              "    </tr>\n",
              "  </thead>\n",
              "  <tbody>\n",
              "    <tr>\n",
              "      <th>0</th>\n",
              "      <td>1513321640431550474</td>\n",
              "      <td>2022-04-11 01:02:49+00:00</td>\n",
              "      <td>2022-04-11</td>\n",
              "      <td>01:02:49</td>\n",
              "      <td>parkesstreet</td>\n",
              "      <td>Bernie Cox</td>\n",
              "      <td>@AustralianLabor After the Fraser Government d...</td>\n",
              "      <td>en</td>\n",
              "      <td>[]</td>\n",
              "      <td>26</td>\n",
              "    </tr>\n",
              "    <tr>\n",
              "      <th>1</th>\n",
              "      <td>1513303462796271616</td>\n",
              "      <td>2022-04-10 23:50:36+00:00</td>\n",
              "      <td>2022-04-10</td>\n",
              "      <td>23:50:36</td>\n",
              "      <td>shanebakeract</td>\n",
              "      <td>Shane Baker</td>\n",
              "      <td>@LuckiePhil1 @vince05656201 @LiberalAus Actual...</td>\n",
              "      <td>en</td>\n",
              "      <td>[]</td>\n",
              "      <td>21</td>\n",
              "    </tr>\n",
              "    <tr>\n",
              "      <th>2</th>\n",
              "      <td>1513285115522457600</td>\n",
              "      <td>2022-04-10 22:37:41+00:00</td>\n",
              "      <td>2022-04-10</td>\n",
              "      <td>22:37:41</td>\n",
              "      <td>pceebee23</td>\n",
              "      <td>ceebee23</td>\n",
              "      <td>@kels_316 @AustralianLabor to be fair to both ...</td>\n",
              "      <td>en</td>\n",
              "      <td>[]</td>\n",
              "      <td>52</td>\n",
              "    </tr>\n",
              "    <tr>\n",
              "      <th>3</th>\n",
              "      <td>1513254396989108226</td>\n",
              "      <td>2022-04-10 20:35:37+00:00</td>\n",
              "      <td>2022-04-10</td>\n",
              "      <td>20:35:37</td>\n",
              "      <td>russputin2</td>\n",
              "      <td>Russell Drysdale # IStandbyDan, Louise &amp;Brittany</td>\n",
              "      <td>@GregHuntMP Actually Greg, Labor invented the ...</td>\n",
              "      <td>en</td>\n",
              "      <td>[]</td>\n",
              "      <td>48</td>\n",
              "    </tr>\n",
              "    <tr>\n",
              "      <th>4</th>\n",
              "      <td>1513127072264519686</td>\n",
              "      <td>2022-04-10 12:09:41+00:00</td>\n",
              "      <td>2022-04-10</td>\n",
              "      <td>12:09:41</td>\n",
              "      <td>gabrielschind13</td>\n",
              "      <td>Gab</td>\n",
              "      <td>@Rheenie_85 So we don't have education for all...</td>\n",
              "      <td>en</td>\n",
              "      <td>[]</td>\n",
              "      <td>22</td>\n",
              "    </tr>\n",
              "    <tr>\n",
              "      <th>...</th>\n",
              "      <td>...</td>\n",
              "      <td>...</td>\n",
              "      <td>...</td>\n",
              "      <td>...</td>\n",
              "      <td>...</td>\n",
              "      <td>...</td>\n",
              "      <td>...</td>\n",
              "      <td>...</td>\n",
              "      <td>...</td>\n",
              "      <td>...</td>\n",
              "    </tr>\n",
              "    <tr>\n",
              "      <th>21062</th>\n",
              "      <td>815671452896784384</td>\n",
              "      <td>2017-01-01 21:30:03+00:00</td>\n",
              "      <td>2017-01-01</td>\n",
              "      <td>21:30:03</td>\n",
              "      <td>medibank</td>\n",
              "      <td>Medibank</td>\n",
              "      <td>Simple tricks to make your plane ride more com...</td>\n",
              "      <td>en</td>\n",
              "      <td>['travel', 'holiday']</td>\n",
              "      <td>15</td>\n",
              "    </tr>\n",
              "    <tr>\n",
              "      <th>21063</th>\n",
              "      <td>815526386689404928</td>\n",
              "      <td>2017-01-01 11:53:36+00:00</td>\n",
              "      <td>2017-01-01</td>\n",
              "      <td>11:53:36</td>\n",
              "      <td>nyafururin</td>\n",
              "      <td>inactive</td>\n",
              "      <td>Medibank is weird, like- where is my colour wh...</td>\n",
              "      <td>en</td>\n",
              "      <td>[]</td>\n",
              "      <td>13</td>\n",
              "    </tr>\n",
              "    <tr>\n",
              "      <th>21064</th>\n",
              "      <td>815419270611935232</td>\n",
              "      <td>2017-01-01 04:47:58+00:00</td>\n",
              "      <td>2017-01-01</td>\n",
              "      <td>04:47:58</td>\n",
              "      <td>donno79</td>\n",
              "      <td>Andrew Donnison</td>\n",
              "      <td>Why is Brett Lee batting in the 2nd @medibank ...</td>\n",
              "      <td>en</td>\n",
              "      <td>['bigquestions']</td>\n",
              "      <td>24</td>\n",
              "    </tr>\n",
              "    <tr>\n",
              "      <th>21065</th>\n",
              "      <td>815399667819315201</td>\n",
              "      <td>2017-01-01 03:30:04+00:00</td>\n",
              "      <td>2017-01-01</td>\n",
              "      <td>03:30:04</td>\n",
              "      <td>medibank</td>\n",
              "      <td>Medibank</td>\n",
              "      <td>The #detox recipe that will help you feel bran...</td>\n",
              "      <td>en</td>\n",
              "      <td>['detox', 'happynewyear']</td>\n",
              "      <td>15</td>\n",
              "    </tr>\n",
              "    <tr>\n",
              "      <th>21066</th>\n",
              "      <td>815390599851307008</td>\n",
              "      <td>2017-01-01 02:54:02+00:00</td>\n",
              "      <td>2017-01-01</td>\n",
              "      <td>02:54:02</td>\n",
              "      <td>s0menz</td>\n",
              "      <td>のん</td>\n",
              "      <td>@KkpPi medibankてやつす。新規登録したらトーン無料取り放題す。</td>\n",
              "      <td>ja</td>\n",
              "      <td>[]</td>\n",
              "      <td>2</td>\n",
              "    </tr>\n",
              "  </tbody>\n",
              "</table>\n",
              "<p>21067 rows × 10 columns</p>\n",
              "</div>\n",
              "      <button class=\"colab-df-convert\" onclick=\"convertToInteractive('df-5ea0c85c-d068-4b65-8e40-7e8ae3811654')\"\n",
              "              title=\"Convert this dataframe to an interactive table.\"\n",
              "              style=\"display:none;\">\n",
              "        \n",
              "  <svg xmlns=\"http://www.w3.org/2000/svg\" height=\"24px\"viewBox=\"0 0 24 24\"\n",
              "       width=\"24px\">\n",
              "    <path d=\"M0 0h24v24H0V0z\" fill=\"none\"/>\n",
              "    <path d=\"M18.56 5.44l.94 2.06.94-2.06 2.06-.94-2.06-.94-.94-2.06-.94 2.06-2.06.94zm-11 1L8.5 8.5l.94-2.06 2.06-.94-2.06-.94L8.5 2.5l-.94 2.06-2.06.94zm10 10l.94 2.06.94-2.06 2.06-.94-2.06-.94-.94-2.06-.94 2.06-2.06.94z\"/><path d=\"M17.41 7.96l-1.37-1.37c-.4-.4-.92-.59-1.43-.59-.52 0-1.04.2-1.43.59L10.3 9.45l-7.72 7.72c-.78.78-.78 2.05 0 2.83L4 21.41c.39.39.9.59 1.41.59.51 0 1.02-.2 1.41-.59l7.78-7.78 2.81-2.81c.8-.78.8-2.07 0-2.86zM5.41 20L4 18.59l7.72-7.72 1.47 1.35L5.41 20z\"/>\n",
              "  </svg>\n",
              "      </button>\n",
              "      \n",
              "  <style>\n",
              "    .colab-df-container {\n",
              "      display:flex;\n",
              "      flex-wrap:wrap;\n",
              "      gap: 12px;\n",
              "    }\n",
              "\n",
              "    .colab-df-convert {\n",
              "      background-color: #E8F0FE;\n",
              "      border: none;\n",
              "      border-radius: 50%;\n",
              "      cursor: pointer;\n",
              "      display: none;\n",
              "      fill: #1967D2;\n",
              "      height: 32px;\n",
              "      padding: 0 0 0 0;\n",
              "      width: 32px;\n",
              "    }\n",
              "\n",
              "    .colab-df-convert:hover {\n",
              "      background-color: #E2EBFA;\n",
              "      box-shadow: 0px 1px 2px rgba(60, 64, 67, 0.3), 0px 1px 3px 1px rgba(60, 64, 67, 0.15);\n",
              "      fill: #174EA6;\n",
              "    }\n",
              "\n",
              "    [theme=dark] .colab-df-convert {\n",
              "      background-color: #3B4455;\n",
              "      fill: #D2E3FC;\n",
              "    }\n",
              "\n",
              "    [theme=dark] .colab-df-convert:hover {\n",
              "      background-color: #434B5C;\n",
              "      box-shadow: 0px 1px 3px 1px rgba(0, 0, 0, 0.15);\n",
              "      filter: drop-shadow(0px 1px 2px rgba(0, 0, 0, 0.3));\n",
              "      fill: #FFFFFF;\n",
              "    }\n",
              "  </style>\n",
              "\n",
              "      <script>\n",
              "        const buttonEl =\n",
              "          document.querySelector('#df-5ea0c85c-d068-4b65-8e40-7e8ae3811654 button.colab-df-convert');\n",
              "        buttonEl.style.display =\n",
              "          google.colab.kernel.accessAllowed ? 'block' : 'none';\n",
              "\n",
              "        async function convertToInteractive(key) {\n",
              "          const element = document.querySelector('#df-5ea0c85c-d068-4b65-8e40-7e8ae3811654');\n",
              "          const dataTable =\n",
              "            await google.colab.kernel.invokeFunction('convertToInteractive',\n",
              "                                                     [key], {});\n",
              "          if (!dataTable) return;\n",
              "\n",
              "          const docLinkHtml = 'Like what you see? Visit the ' +\n",
              "            '<a target=\"_blank\" href=https://colab.research.google.com/notebooks/data_table.ipynb>data table notebook</a>'\n",
              "            + ' to learn more about interactive tables.';\n",
              "          element.innerHTML = '';\n",
              "          dataTable['output_type'] = 'display_data';\n",
              "          await google.colab.output.renderOutput(dataTable, element);\n",
              "          const docLink = document.createElement('div');\n",
              "          docLink.innerHTML = docLinkHtml;\n",
              "          element.appendChild(docLink);\n",
              "        }\n",
              "      </script>\n",
              "    </div>\n",
              "  </div>\n",
              "  "
            ]
          },
          "metadata": {},
          "execution_count": 173
        }
      ]
    },
    {
      "cell_type": "code",
      "source": [
        "# Counting the number of characters in each sentence\n",
        "# Assigning the character count to a new attribute named 'char_count'\n",
        "\n",
        "df_medibank['char_count'] = df_medibank['tweet'].str.len()  # Includes the spaces\n",
        "df_medibank.head(5)"
      ],
      "metadata": {
        "colab": {
          "base_uri": "https://localhost:8080/",
          "height": 409
        },
        "id": "_qATjQ3m6PyI",
        "outputId": "b70d7472-2abf-4d2e-ab91-d8478ee2aec1"
      },
      "execution_count": null,
      "outputs": [
        {
          "output_type": "stream",
          "name": "stderr",
          "text": [
            "/usr/local/lib/python3.9/dist-packages/ipykernel/ipkernel.py:283: DeprecationWarning: `should_run_async` will not call `transform_cell` automatically in the future. Please pass the result to `transformed_cell` argument and any exception that happen during thetransform in `preprocessing_exc_tuple` in IPython 7.17 and above.\n",
            "  and should_run_async(code)\n"
          ]
        },
        {
          "output_type": "execute_result",
          "data": {
            "text/plain": [
              "                    id                 created_at        date      time  \\\n",
              "0  1513321640431550474  2022-04-11 01:02:49+00:00  2022-04-11  01:02:49   \n",
              "1  1513303462796271616  2022-04-10 23:50:36+00:00  2022-04-10  23:50:36   \n",
              "2  1513285115522457600  2022-04-10 22:37:41+00:00  2022-04-10  22:37:41   \n",
              "3  1513254396989108226  2022-04-10 20:35:37+00:00  2022-04-10  20:35:37   \n",
              "4  1513127072264519686  2022-04-10 12:09:41+00:00  2022-04-10  12:09:41   \n",
              "\n",
              "          username                                              name  \\\n",
              "0     parkesstreet                                        Bernie Cox   \n",
              "1    shanebakeract                                       Shane Baker   \n",
              "2        pceebee23                                          ceebee23   \n",
              "3       russputin2  Russell Drysdale # IStandbyDan, Louise &Brittany   \n",
              "4  gabrielschind13                                               Gab   \n",
              "\n",
              "                                               tweet language hashtags  \\\n",
              "0  @AustralianLabor After the Fraser Government d...       en       []   \n",
              "1  @LuckiePhil1 @vince05656201 @LiberalAus Actual...       en       []   \n",
              "2  @kels_316 @AustralianLabor to be fair to both ...       en       []   \n",
              "3  @GregHuntMP Actually Greg, Labor invented the ...       en       []   \n",
              "4  @Rheenie_85 So we don't have education for all...       en       []   \n",
              "\n",
              "   word_count_function  char_count  \n",
              "0                   26       190.0  \n",
              "1                   21       150.0  \n",
              "2                   52       307.0  \n",
              "3                   48       297.0  \n",
              "4                   22       132.0  "
            ],
            "text/html": [
              "\n",
              "  <div id=\"df-6630d919-4e87-454e-9ce9-826eba8f8829\">\n",
              "    <div class=\"colab-df-container\">\n",
              "      <div>\n",
              "<style scoped>\n",
              "    .dataframe tbody tr th:only-of-type {\n",
              "        vertical-align: middle;\n",
              "    }\n",
              "\n",
              "    .dataframe tbody tr th {\n",
              "        vertical-align: top;\n",
              "    }\n",
              "\n",
              "    .dataframe thead th {\n",
              "        text-align: right;\n",
              "    }\n",
              "</style>\n",
              "<table border=\"1\" class=\"dataframe\">\n",
              "  <thead>\n",
              "    <tr style=\"text-align: right;\">\n",
              "      <th></th>\n",
              "      <th>id</th>\n",
              "      <th>created_at</th>\n",
              "      <th>date</th>\n",
              "      <th>time</th>\n",
              "      <th>username</th>\n",
              "      <th>name</th>\n",
              "      <th>tweet</th>\n",
              "      <th>language</th>\n",
              "      <th>hashtags</th>\n",
              "      <th>word_count_function</th>\n",
              "      <th>char_count</th>\n",
              "    </tr>\n",
              "  </thead>\n",
              "  <tbody>\n",
              "    <tr>\n",
              "      <th>0</th>\n",
              "      <td>1513321640431550474</td>\n",
              "      <td>2022-04-11 01:02:49+00:00</td>\n",
              "      <td>2022-04-11</td>\n",
              "      <td>01:02:49</td>\n",
              "      <td>parkesstreet</td>\n",
              "      <td>Bernie Cox</td>\n",
              "      <td>@AustralianLabor After the Fraser Government d...</td>\n",
              "      <td>en</td>\n",
              "      <td>[]</td>\n",
              "      <td>26</td>\n",
              "      <td>190.0</td>\n",
              "    </tr>\n",
              "    <tr>\n",
              "      <th>1</th>\n",
              "      <td>1513303462796271616</td>\n",
              "      <td>2022-04-10 23:50:36+00:00</td>\n",
              "      <td>2022-04-10</td>\n",
              "      <td>23:50:36</td>\n",
              "      <td>shanebakeract</td>\n",
              "      <td>Shane Baker</td>\n",
              "      <td>@LuckiePhil1 @vince05656201 @LiberalAus Actual...</td>\n",
              "      <td>en</td>\n",
              "      <td>[]</td>\n",
              "      <td>21</td>\n",
              "      <td>150.0</td>\n",
              "    </tr>\n",
              "    <tr>\n",
              "      <th>2</th>\n",
              "      <td>1513285115522457600</td>\n",
              "      <td>2022-04-10 22:37:41+00:00</td>\n",
              "      <td>2022-04-10</td>\n",
              "      <td>22:37:41</td>\n",
              "      <td>pceebee23</td>\n",
              "      <td>ceebee23</td>\n",
              "      <td>@kels_316 @AustralianLabor to be fair to both ...</td>\n",
              "      <td>en</td>\n",
              "      <td>[]</td>\n",
              "      <td>52</td>\n",
              "      <td>307.0</td>\n",
              "    </tr>\n",
              "    <tr>\n",
              "      <th>3</th>\n",
              "      <td>1513254396989108226</td>\n",
              "      <td>2022-04-10 20:35:37+00:00</td>\n",
              "      <td>2022-04-10</td>\n",
              "      <td>20:35:37</td>\n",
              "      <td>russputin2</td>\n",
              "      <td>Russell Drysdale # IStandbyDan, Louise &amp;Brittany</td>\n",
              "      <td>@GregHuntMP Actually Greg, Labor invented the ...</td>\n",
              "      <td>en</td>\n",
              "      <td>[]</td>\n",
              "      <td>48</td>\n",
              "      <td>297.0</td>\n",
              "    </tr>\n",
              "    <tr>\n",
              "      <th>4</th>\n",
              "      <td>1513127072264519686</td>\n",
              "      <td>2022-04-10 12:09:41+00:00</td>\n",
              "      <td>2022-04-10</td>\n",
              "      <td>12:09:41</td>\n",
              "      <td>gabrielschind13</td>\n",
              "      <td>Gab</td>\n",
              "      <td>@Rheenie_85 So we don't have education for all...</td>\n",
              "      <td>en</td>\n",
              "      <td>[]</td>\n",
              "      <td>22</td>\n",
              "      <td>132.0</td>\n",
              "    </tr>\n",
              "  </tbody>\n",
              "</table>\n",
              "</div>\n",
              "      <button class=\"colab-df-convert\" onclick=\"convertToInteractive('df-6630d919-4e87-454e-9ce9-826eba8f8829')\"\n",
              "              title=\"Convert this dataframe to an interactive table.\"\n",
              "              style=\"display:none;\">\n",
              "        \n",
              "  <svg xmlns=\"http://www.w3.org/2000/svg\" height=\"24px\"viewBox=\"0 0 24 24\"\n",
              "       width=\"24px\">\n",
              "    <path d=\"M0 0h24v24H0V0z\" fill=\"none\"/>\n",
              "    <path d=\"M18.56 5.44l.94 2.06.94-2.06 2.06-.94-2.06-.94-.94-2.06-.94 2.06-2.06.94zm-11 1L8.5 8.5l.94-2.06 2.06-.94-2.06-.94L8.5 2.5l-.94 2.06-2.06.94zm10 10l.94 2.06.94-2.06 2.06-.94-2.06-.94-.94-2.06-.94 2.06-2.06.94z\"/><path d=\"M17.41 7.96l-1.37-1.37c-.4-.4-.92-.59-1.43-.59-.52 0-1.04.2-1.43.59L10.3 9.45l-7.72 7.72c-.78.78-.78 2.05 0 2.83L4 21.41c.39.39.9.59 1.41.59.51 0 1.02-.2 1.41-.59l7.78-7.78 2.81-2.81c.8-.78.8-2.07 0-2.86zM5.41 20L4 18.59l7.72-7.72 1.47 1.35L5.41 20z\"/>\n",
              "  </svg>\n",
              "      </button>\n",
              "      \n",
              "  <style>\n",
              "    .colab-df-container {\n",
              "      display:flex;\n",
              "      flex-wrap:wrap;\n",
              "      gap: 12px;\n",
              "    }\n",
              "\n",
              "    .colab-df-convert {\n",
              "      background-color: #E8F0FE;\n",
              "      border: none;\n",
              "      border-radius: 50%;\n",
              "      cursor: pointer;\n",
              "      display: none;\n",
              "      fill: #1967D2;\n",
              "      height: 32px;\n",
              "      padding: 0 0 0 0;\n",
              "      width: 32px;\n",
              "    }\n",
              "\n",
              "    .colab-df-convert:hover {\n",
              "      background-color: #E2EBFA;\n",
              "      box-shadow: 0px 1px 2px rgba(60, 64, 67, 0.3), 0px 1px 3px 1px rgba(60, 64, 67, 0.15);\n",
              "      fill: #174EA6;\n",
              "    }\n",
              "\n",
              "    [theme=dark] .colab-df-convert {\n",
              "      background-color: #3B4455;\n",
              "      fill: #D2E3FC;\n",
              "    }\n",
              "\n",
              "    [theme=dark] .colab-df-convert:hover {\n",
              "      background-color: #434B5C;\n",
              "      box-shadow: 0px 1px 3px 1px rgba(0, 0, 0, 0.15);\n",
              "      filter: drop-shadow(0px 1px 2px rgba(0, 0, 0, 0.3));\n",
              "      fill: #FFFFFF;\n",
              "    }\n",
              "  </style>\n",
              "\n",
              "      <script>\n",
              "        const buttonEl =\n",
              "          document.querySelector('#df-6630d919-4e87-454e-9ce9-826eba8f8829 button.colab-df-convert');\n",
              "        buttonEl.style.display =\n",
              "          google.colab.kernel.accessAllowed ? 'block' : 'none';\n",
              "\n",
              "        async function convertToInteractive(key) {\n",
              "          const element = document.querySelector('#df-6630d919-4e87-454e-9ce9-826eba8f8829');\n",
              "          const dataTable =\n",
              "            await google.colab.kernel.invokeFunction('convertToInteractive',\n",
              "                                                     [key], {});\n",
              "          if (!dataTable) return;\n",
              "\n",
              "          const docLinkHtml = 'Like what you see? Visit the ' +\n",
              "            '<a target=\"_blank\" href=https://colab.research.google.com/notebooks/data_table.ipynb>data table notebook</a>'\n",
              "            + ' to learn more about interactive tables.';\n",
              "          element.innerHTML = '';\n",
              "          dataTable['output_type'] = 'display_data';\n",
              "          await google.colab.output.renderOutput(dataTable, element);\n",
              "          const docLink = document.createElement('div');\n",
              "          docLink.innerHTML = docLinkHtml;\n",
              "          element.appendChild(docLink);\n",
              "        }\n",
              "      </script>\n",
              "    </div>\n",
              "  </div>\n",
              "  "
            ]
          },
          "metadata": {},
          "execution_count": 174
        }
      ]
    },
    {
      "cell_type": "code",
      "source": [
        "# Calculating the average number of words in the tweet column\n",
        "def avg_word(Sentence):\n",
        "  if isinstance(Sentence, str):\n",
        "    words = Sentence.split() # split the sentence into words\n",
        "    avg_of_words = (sum(len(word) for word in words)/len(words))\n",
        "    return avg_of_words\n",
        "  else:\n",
        "    return 0\n",
        "\n",
        "df_medibank['avg_word'] = df_medibank['tweet'].apply(avg_word)\n",
        "df_medibank.head(5)"
      ],
      "metadata": {
        "id": "qVnq68G833RG"
      },
      "execution_count": null,
      "outputs": []
    },
    {
      "cell_type": "markdown",
      "source": [
        "## Text Pre Processing"
      ],
      "metadata": {
        "id": "5YOK2hUcGUA1"
      }
    },
    {
      "cell_type": "markdown",
      "source": [
        "### Tranforming to Lowercase"
      ],
      "metadata": {
        "id": "rT7mezVBiKuS"
      }
    },
    {
      "cell_type": "code",
      "source": [
        "# Tranforming all the text to lowercase\n",
        "\n",
        "df_medibank['tweet'] = df_medibank['tweet'].str.lower()\n",
        "df_medibank.head()"
      ],
      "metadata": {
        "id": "wTQkrNU-Gh7M"
      },
      "execution_count": null,
      "outputs": []
    },
    {
      "cell_type": "markdown",
      "source": [
        "### Checking for Duplicates"
      ],
      "metadata": {
        "id": "enNU8IODiXIk"
      }
    },
    {
      "cell_type": "code",
      "source": [
        "# Check duplicate tweets count\n",
        "duplicate_count = len(df_medibank['tweet'])-len(df_medibank['tweet'].drop_duplicates())\n",
        "print('duplicate count:', duplicate_count)\n",
        "print('total records before remove duplicates:', df_medibank.shape[0])\n"
      ],
      "metadata": {
        "colab": {
          "base_uri": "https://localhost:8080/"
        },
        "id": "nZ27ojl-ukoo",
        "outputId": "083d68ba-4018-42d4-d5a9-35c68ed0c430"
      },
      "execution_count": null,
      "outputs": [
        {
          "output_type": "stream",
          "name": "stdout",
          "text": [
            "duplicate count: 191\n",
            "total records before remove duplicates: 21067\n"
          ]
        },
        {
          "output_type": "stream",
          "name": "stderr",
          "text": [
            "/usr/local/lib/python3.9/dist-packages/ipykernel/ipkernel.py:283: DeprecationWarning: `should_run_async` will not call `transform_cell` automatically in the future. Please pass the result to `transformed_cell` argument and any exception that happen during thetransform in `preprocessing_exc_tuple` in IPython 7.17 and above.\n",
            "  and should_run_async(code)\n"
          ]
        }
      ]
    },
    {
      "cell_type": "markdown",
      "source": [
        "### Removing the Duplicates"
      ],
      "metadata": {
        "id": "ymObaQfiijVc"
      }
    },
    {
      "cell_type": "code",
      "source": [
        "# Dropping duplicates (keep the last tweet of each of the duplicates)\n",
        "df_medibank = df_medibank.drop_duplicates(subset='tweet', keep=\"first\")\n",
        "print('updated record count:', df_medibank.shape[0])"
      ],
      "metadata": {
        "colab": {
          "base_uri": "https://localhost:8080/"
        },
        "id": "NDljh-davKC5",
        "outputId": "e3ab7e76-ba62-4617-f0cc-d0e78bd41b85"
      },
      "execution_count": null,
      "outputs": [
        {
          "output_type": "stream",
          "name": "stdout",
          "text": [
            "updated record count: 20876\n"
          ]
        },
        {
          "output_type": "stream",
          "name": "stderr",
          "text": [
            "/usr/local/lib/python3.9/dist-packages/ipykernel/ipkernel.py:283: DeprecationWarning: `should_run_async` will not call `transform_cell` automatically in the future. Please pass the result to `transformed_cell` argument and any exception that happen during thetransform in `preprocessing_exc_tuple` in IPython 7.17 and above.\n",
            "  and should_run_async(code)\n"
          ]
        }
      ]
    },
    {
      "cell_type": "markdown",
      "source": [
        "### Removing Punctuation and Twitter IDs"
      ],
      "metadata": {
        "id": "78SneeIyioxN"
      }
    },
    {
      "cell_type": "code",
      "source": [
        "# Remove punctuations\n",
        "df_medibank['tweet'] = df_medibank['tweet'].str.replace('[^\\w\\s]','')\n",
        "df_medibank.head()"
      ],
      "metadata": {
        "id": "c9WZOIlo5bfu"
      },
      "execution_count": null,
      "outputs": []
    },
    {
      "cell_type": "code",
      "source": [
        "# Remove twitter user ids that are mentioned in the tweet text\n",
        "\n",
        "def remove_twitter_ids(tweet):\n",
        "  mention_removed_tweet = re.sub(r\"(@[A-Za-z0-9]+)|([^0-9A-Za-z \\t])|(\\w+:\\/\\/\\S+)\", \"\", str(tweet)) # remove any sequence of characters followed by '@' sign\n",
        "  spaces_removed = re.sub(r\"\\s\\s+\", \" \", str(mention_removed_tweet)) # remove multiple spaces\n",
        "  return spaces_removed\n",
        "\n",
        "df_medibank['tweet'] = df_medibank['tweet'].apply(remove_twitter_ids)\n",
        "df_medibank.head()"
      ],
      "metadata": {
        "id": "3Yc-QP5_ZbUv"
      },
      "execution_count": null,
      "outputs": []
    },
    {
      "cell_type": "markdown",
      "source": [
        "### Removing Digits"
      ],
      "metadata": {
        "id": "ao2dYawh_8DS"
      }
    },
    {
      "cell_type": "code",
      "source": [
        "def remove_digits(sent):\n",
        "  return \" \".join(w for w in sent.split() if not w.isdigit())\n",
        "\n",
        "df_medibank['tweet'] = df_medibank['tweet'].apply(remove_digits)\n",
        "df_medibank.head(5)"
      ],
      "metadata": {
        "colab": {
          "base_uri": "https://localhost:8080/",
          "height": 513
        },
        "id": "2YqNu_CnAAsl",
        "outputId": "da676fec-71fe-4ea9-d3ef-2f7e2fd709d7"
      },
      "execution_count": null,
      "outputs": [
        {
          "output_type": "stream",
          "name": "stderr",
          "text": [
            "/usr/local/lib/python3.9/dist-packages/ipykernel/ipkernel.py:283: DeprecationWarning: `should_run_async` will not call `transform_cell` automatically in the future. Please pass the result to `transformed_cell` argument and any exception that happen during thetransform in `preprocessing_exc_tuple` in IPython 7.17 and above.\n",
            "  and should_run_async(code)\n",
            "<ipython-input-181-007b88c4a94e>:4: SettingWithCopyWarning: \n",
            "A value is trying to be set on a copy of a slice from a DataFrame.\n",
            "Try using .loc[row_indexer,col_indexer] = value instead\n",
            "\n",
            "See the caveats in the documentation: https://pandas.pydata.org/pandas-docs/stable/user_guide/indexing.html#returning-a-view-versus-a-copy\n",
            "  df_medibank['tweet'] = df_medibank['tweet'].apply(remove_digits)\n"
          ]
        },
        {
          "output_type": "execute_result",
          "data": {
            "text/plain": [
              "                    id                 created_at        date      time  \\\n",
              "0  1513321640431550474  2022-04-11 01:02:49+00:00  2022-04-11  01:02:49   \n",
              "1  1513303462796271616  2022-04-10 23:50:36+00:00  2022-04-10  23:50:36   \n",
              "2  1513285115522457600  2022-04-10 22:37:41+00:00  2022-04-10  22:37:41   \n",
              "3  1513254396989108226  2022-04-10 20:35:37+00:00  2022-04-10  20:35:37   \n",
              "4  1513127072264519686  2022-04-10 12:09:41+00:00  2022-04-10  12:09:41   \n",
              "\n",
              "          username                                              name  \\\n",
              "0     parkesstreet                                        Bernie Cox   \n",
              "1    shanebakeract                                       Shane Baker   \n",
              "2        pceebee23                                          ceebee23   \n",
              "3       russputin2  Russell Drysdale # IStandbyDan, Louise &Brittany   \n",
              "4  gabrielschind13                                               Gab   \n",
              "\n",
              "                                               tweet language hashtags  \\\n",
              "0  australianlabor after the fraser government de...       en       []   \n",
              "1  luckiephil1 vince05656201 liberalaus actually ...       en       []   \n",
              "2  kels316 australianlabor to be fair to both gre...       en       []   \n",
              "3  greghuntmp actually greg labor invented the pb...       en       []   \n",
              "4  rheenie85 so we dont have education for all or...       en       []   \n",
              "\n",
              "   word_count_function  char_count  avg_word  \n",
              "0                   26       190.0  6.600000  \n",
              "1                   21       150.0  6.190476  \n",
              "2                   52       307.0  4.923077  \n",
              "3                   48       297.0  5.208333  \n",
              "4                   22       132.0  5.285714  "
            ],
            "text/html": [
              "\n",
              "  <div id=\"df-30d9f01d-31fa-4b71-b9a4-9a0c1648007e\">\n",
              "    <div class=\"colab-df-container\">\n",
              "      <div>\n",
              "<style scoped>\n",
              "    .dataframe tbody tr th:only-of-type {\n",
              "        vertical-align: middle;\n",
              "    }\n",
              "\n",
              "    .dataframe tbody tr th {\n",
              "        vertical-align: top;\n",
              "    }\n",
              "\n",
              "    .dataframe thead th {\n",
              "        text-align: right;\n",
              "    }\n",
              "</style>\n",
              "<table border=\"1\" class=\"dataframe\">\n",
              "  <thead>\n",
              "    <tr style=\"text-align: right;\">\n",
              "      <th></th>\n",
              "      <th>id</th>\n",
              "      <th>created_at</th>\n",
              "      <th>date</th>\n",
              "      <th>time</th>\n",
              "      <th>username</th>\n",
              "      <th>name</th>\n",
              "      <th>tweet</th>\n",
              "      <th>language</th>\n",
              "      <th>hashtags</th>\n",
              "      <th>word_count_function</th>\n",
              "      <th>char_count</th>\n",
              "      <th>avg_word</th>\n",
              "    </tr>\n",
              "  </thead>\n",
              "  <tbody>\n",
              "    <tr>\n",
              "      <th>0</th>\n",
              "      <td>1513321640431550474</td>\n",
              "      <td>2022-04-11 01:02:49+00:00</td>\n",
              "      <td>2022-04-11</td>\n",
              "      <td>01:02:49</td>\n",
              "      <td>parkesstreet</td>\n",
              "      <td>Bernie Cox</td>\n",
              "      <td>australianlabor after the fraser government de...</td>\n",
              "      <td>en</td>\n",
              "      <td>[]</td>\n",
              "      <td>26</td>\n",
              "      <td>190.0</td>\n",
              "      <td>6.600000</td>\n",
              "    </tr>\n",
              "    <tr>\n",
              "      <th>1</th>\n",
              "      <td>1513303462796271616</td>\n",
              "      <td>2022-04-10 23:50:36+00:00</td>\n",
              "      <td>2022-04-10</td>\n",
              "      <td>23:50:36</td>\n",
              "      <td>shanebakeract</td>\n",
              "      <td>Shane Baker</td>\n",
              "      <td>luckiephil1 vince05656201 liberalaus actually ...</td>\n",
              "      <td>en</td>\n",
              "      <td>[]</td>\n",
              "      <td>21</td>\n",
              "      <td>150.0</td>\n",
              "      <td>6.190476</td>\n",
              "    </tr>\n",
              "    <tr>\n",
              "      <th>2</th>\n",
              "      <td>1513285115522457600</td>\n",
              "      <td>2022-04-10 22:37:41+00:00</td>\n",
              "      <td>2022-04-10</td>\n",
              "      <td>22:37:41</td>\n",
              "      <td>pceebee23</td>\n",
              "      <td>ceebee23</td>\n",
              "      <td>kels316 australianlabor to be fair to both gre...</td>\n",
              "      <td>en</td>\n",
              "      <td>[]</td>\n",
              "      <td>52</td>\n",
              "      <td>307.0</td>\n",
              "      <td>4.923077</td>\n",
              "    </tr>\n",
              "    <tr>\n",
              "      <th>3</th>\n",
              "      <td>1513254396989108226</td>\n",
              "      <td>2022-04-10 20:35:37+00:00</td>\n",
              "      <td>2022-04-10</td>\n",
              "      <td>20:35:37</td>\n",
              "      <td>russputin2</td>\n",
              "      <td>Russell Drysdale # IStandbyDan, Louise &amp;Brittany</td>\n",
              "      <td>greghuntmp actually greg labor invented the pb...</td>\n",
              "      <td>en</td>\n",
              "      <td>[]</td>\n",
              "      <td>48</td>\n",
              "      <td>297.0</td>\n",
              "      <td>5.208333</td>\n",
              "    </tr>\n",
              "    <tr>\n",
              "      <th>4</th>\n",
              "      <td>1513127072264519686</td>\n",
              "      <td>2022-04-10 12:09:41+00:00</td>\n",
              "      <td>2022-04-10</td>\n",
              "      <td>12:09:41</td>\n",
              "      <td>gabrielschind13</td>\n",
              "      <td>Gab</td>\n",
              "      <td>rheenie85 so we dont have education for all or...</td>\n",
              "      <td>en</td>\n",
              "      <td>[]</td>\n",
              "      <td>22</td>\n",
              "      <td>132.0</td>\n",
              "      <td>5.285714</td>\n",
              "    </tr>\n",
              "  </tbody>\n",
              "</table>\n",
              "</div>\n",
              "      <button class=\"colab-df-convert\" onclick=\"convertToInteractive('df-30d9f01d-31fa-4b71-b9a4-9a0c1648007e')\"\n",
              "              title=\"Convert this dataframe to an interactive table.\"\n",
              "              style=\"display:none;\">\n",
              "        \n",
              "  <svg xmlns=\"http://www.w3.org/2000/svg\" height=\"24px\"viewBox=\"0 0 24 24\"\n",
              "       width=\"24px\">\n",
              "    <path d=\"M0 0h24v24H0V0z\" fill=\"none\"/>\n",
              "    <path d=\"M18.56 5.44l.94 2.06.94-2.06 2.06-.94-2.06-.94-.94-2.06-.94 2.06-2.06.94zm-11 1L8.5 8.5l.94-2.06 2.06-.94-2.06-.94L8.5 2.5l-.94 2.06-2.06.94zm10 10l.94 2.06.94-2.06 2.06-.94-2.06-.94-.94-2.06-.94 2.06-2.06.94z\"/><path d=\"M17.41 7.96l-1.37-1.37c-.4-.4-.92-.59-1.43-.59-.52 0-1.04.2-1.43.59L10.3 9.45l-7.72 7.72c-.78.78-.78 2.05 0 2.83L4 21.41c.39.39.9.59 1.41.59.51 0 1.02-.2 1.41-.59l7.78-7.78 2.81-2.81c.8-.78.8-2.07 0-2.86zM5.41 20L4 18.59l7.72-7.72 1.47 1.35L5.41 20z\"/>\n",
              "  </svg>\n",
              "      </button>\n",
              "      \n",
              "  <style>\n",
              "    .colab-df-container {\n",
              "      display:flex;\n",
              "      flex-wrap:wrap;\n",
              "      gap: 12px;\n",
              "    }\n",
              "\n",
              "    .colab-df-convert {\n",
              "      background-color: #E8F0FE;\n",
              "      border: none;\n",
              "      border-radius: 50%;\n",
              "      cursor: pointer;\n",
              "      display: none;\n",
              "      fill: #1967D2;\n",
              "      height: 32px;\n",
              "      padding: 0 0 0 0;\n",
              "      width: 32px;\n",
              "    }\n",
              "\n",
              "    .colab-df-convert:hover {\n",
              "      background-color: #E2EBFA;\n",
              "      box-shadow: 0px 1px 2px rgba(60, 64, 67, 0.3), 0px 1px 3px 1px rgba(60, 64, 67, 0.15);\n",
              "      fill: #174EA6;\n",
              "    }\n",
              "\n",
              "    [theme=dark] .colab-df-convert {\n",
              "      background-color: #3B4455;\n",
              "      fill: #D2E3FC;\n",
              "    }\n",
              "\n",
              "    [theme=dark] .colab-df-convert:hover {\n",
              "      background-color: #434B5C;\n",
              "      box-shadow: 0px 1px 3px 1px rgba(0, 0, 0, 0.15);\n",
              "      filter: drop-shadow(0px 1px 2px rgba(0, 0, 0, 0.3));\n",
              "      fill: #FFFFFF;\n",
              "    }\n",
              "  </style>\n",
              "\n",
              "      <script>\n",
              "        const buttonEl =\n",
              "          document.querySelector('#df-30d9f01d-31fa-4b71-b9a4-9a0c1648007e button.colab-df-convert');\n",
              "        buttonEl.style.display =\n",
              "          google.colab.kernel.accessAllowed ? 'block' : 'none';\n",
              "\n",
              "        async function convertToInteractive(key) {\n",
              "          const element = document.querySelector('#df-30d9f01d-31fa-4b71-b9a4-9a0c1648007e');\n",
              "          const dataTable =\n",
              "            await google.colab.kernel.invokeFunction('convertToInteractive',\n",
              "                                                     [key], {});\n",
              "          if (!dataTable) return;\n",
              "\n",
              "          const docLinkHtml = 'Like what you see? Visit the ' +\n",
              "            '<a target=\"_blank\" href=https://colab.research.google.com/notebooks/data_table.ipynb>data table notebook</a>'\n",
              "            + ' to learn more about interactive tables.';\n",
              "          element.innerHTML = '';\n",
              "          dataTable['output_type'] = 'display_data';\n",
              "          await google.colab.output.renderOutput(dataTable, element);\n",
              "          const docLink = document.createElement('div');\n",
              "          docLink.innerHTML = docLinkHtml;\n",
              "          element.appendChild(docLink);\n",
              "        }\n",
              "      </script>\n",
              "    </div>\n",
              "  </div>\n",
              "  "
            ]
          },
          "metadata": {},
          "execution_count": 181
        }
      ]
    },
    {
      "cell_type": "markdown",
      "source": [
        "### Removing Stop Words"
      ],
      "metadata": {
        "id": "K1zxlL3-jUfx"
      }
    },
    {
      "cell_type": "code",
      "source": [
        "# Remove stop words\n",
        "\n",
        "# Load NLTK library\n",
        "import nltk\n",
        "\n",
        "# Download the stopwords to the nltk library\n",
        "nltk.download('stopwords')\n",
        "\n",
        "# Load the stopwords\n",
        "from nltk.corpus import stopwords"
      ],
      "metadata": {
        "colab": {
          "base_uri": "https://localhost:8080/"
        },
        "id": "-mP2DSenbceS",
        "outputId": "ba29dda8-fad6-41b3-a65c-7727bb54365c"
      },
      "execution_count": null,
      "outputs": [
        {
          "output_type": "stream",
          "name": "stderr",
          "text": [
            "/usr/local/lib/python3.9/dist-packages/ipykernel/ipkernel.py:283: DeprecationWarning: `should_run_async` will not call `transform_cell` automatically in the future. Please pass the result to `transformed_cell` argument and any exception that happen during thetransform in `preprocessing_exc_tuple` in IPython 7.17 and above.\n",
            "  and should_run_async(code)\n",
            "[nltk_data] Downloading package stopwords to /root/nltk_data...\n",
            "[nltk_data]   Package stopwords is already up-to-date!\n"
          ]
        }
      ]
    },
    {
      "cell_type": "code",
      "source": [
        "# get the list of all stopwords from the library\n",
        "stop = stopwords.words('english')\n",
        "print(stop)"
      ],
      "metadata": {
        "colab": {
          "base_uri": "https://localhost:8080/"
        },
        "id": "tsiinJ0AblEO",
        "outputId": "b44668d4-dddd-4336-b4bc-d46b06ae88cf"
      },
      "execution_count": null,
      "outputs": [
        {
          "output_type": "stream",
          "name": "stdout",
          "text": [
            "['i', 'me', 'my', 'myself', 'we', 'our', 'ours', 'ourselves', 'you', \"you're\", \"you've\", \"you'll\", \"you'd\", 'your', 'yours', 'yourself', 'yourselves', 'he', 'him', 'his', 'himself', 'she', \"she's\", 'her', 'hers', 'herself', 'it', \"it's\", 'its', 'itself', 'they', 'them', 'their', 'theirs', 'themselves', 'what', 'which', 'who', 'whom', 'this', 'that', \"that'll\", 'these', 'those', 'am', 'is', 'are', 'was', 'were', 'be', 'been', 'being', 'have', 'has', 'had', 'having', 'do', 'does', 'did', 'doing', 'a', 'an', 'the', 'and', 'but', 'if', 'or', 'because', 'as', 'until', 'while', 'of', 'at', 'by', 'for', 'with', 'about', 'against', 'between', 'into', 'through', 'during', 'before', 'after', 'above', 'below', 'to', 'from', 'up', 'down', 'in', 'out', 'on', 'off', 'over', 'under', 'again', 'further', 'then', 'once', 'here', 'there', 'when', 'where', 'why', 'how', 'all', 'any', 'both', 'each', 'few', 'more', 'most', 'other', 'some', 'such', 'no', 'nor', 'not', 'only', 'own', 'same', 'so', 'than', 'too', 'very', 's', 't', 'can', 'will', 'just', 'don', \"don't\", 'should', \"should've\", 'now', 'd', 'll', 'm', 'o', 're', 've', 'y', 'ain', 'aren', \"aren't\", 'couldn', \"couldn't\", 'didn', \"didn't\", 'doesn', \"doesn't\", 'hadn', \"hadn't\", 'hasn', \"hasn't\", 'haven', \"haven't\", 'isn', \"isn't\", 'ma', 'mightn', \"mightn't\", 'mustn', \"mustn't\", 'needn', \"needn't\", 'shan', \"shan't\", 'shouldn', \"shouldn't\", 'wasn', \"wasn't\", 'weren', \"weren't\", 'won', \"won't\", 'wouldn', \"wouldn't\"]\n"
          ]
        },
        {
          "output_type": "stream",
          "name": "stderr",
          "text": [
            "/usr/local/lib/python3.9/dist-packages/ipykernel/ipkernel.py:283: DeprecationWarning: `should_run_async` will not call `transform_cell` automatically in the future. Please pass the result to `transformed_cell` argument and any exception that happen during thetransform in `preprocessing_exc_tuple` in IPython 7.17 and above.\n",
            "  and should_run_async(code)\n"
          ]
        }
      ]
    },
    {
      "cell_type": "code",
      "source": [
        "stop.remove('not')"
      ],
      "metadata": {
        "colab": {
          "base_uri": "https://localhost:8080/"
        },
        "id": "2Iif0rb6bqPE",
        "outputId": "c01fdc60-a2a9-4982-be8d-8a424656f2d0"
      },
      "execution_count": null,
      "outputs": [
        {
          "output_type": "stream",
          "name": "stderr",
          "text": [
            "/usr/local/lib/python3.9/dist-packages/ipykernel/ipkernel.py:283: DeprecationWarning: `should_run_async` will not call `transform_cell` automatically in the future. Please pass the result to `transformed_cell` argument and any exception that happen during thetransform in `preprocessing_exc_tuple` in IPython 7.17 and above.\n",
            "  and should_run_async(code)\n"
          ]
        }
      ]
    },
    {
      "cell_type": "code",
      "source": [
        "# Remove the words in 'stop' list\n",
        "def remove_stop_words(tweet):\n",
        "  tokens = tweet.split()\n",
        "  stop_removed_tokens = [t for t in tokens if t not in stop]\n",
        "  convert_to_string = \" \".join(stop_removed_tokens)\n",
        "  return convert_to_string\n",
        "\n",
        "df_medibank['tweet'] = df_medibank['tweet'].apply(remove_stop_words)\n",
        "df_medibank.head(5)"
      ],
      "metadata": {
        "colab": {
          "base_uri": "https://localhost:8080/",
          "height": 513
        },
        "id": "HzGf_XqPb4la",
        "outputId": "038e3b31-d457-473a-ad8c-a21645a9ceca"
      },
      "execution_count": null,
      "outputs": [
        {
          "output_type": "stream",
          "name": "stderr",
          "text": [
            "/usr/local/lib/python3.9/dist-packages/ipykernel/ipkernel.py:283: DeprecationWarning: `should_run_async` will not call `transform_cell` automatically in the future. Please pass the result to `transformed_cell` argument and any exception that happen during thetransform in `preprocessing_exc_tuple` in IPython 7.17 and above.\n",
            "  and should_run_async(code)\n",
            "<ipython-input-185-6b042d759421>:8: SettingWithCopyWarning: \n",
            "A value is trying to be set on a copy of a slice from a DataFrame.\n",
            "Try using .loc[row_indexer,col_indexer] = value instead\n",
            "\n",
            "See the caveats in the documentation: https://pandas.pydata.org/pandas-docs/stable/user_guide/indexing.html#returning-a-view-versus-a-copy\n",
            "  df_medibank['tweet'] = df_medibank['tweet'].apply(remove_stop_words)\n"
          ]
        },
        {
          "output_type": "execute_result",
          "data": {
            "text/plain": [
              "                    id                 created_at        date      time  \\\n",
              "0  1513321640431550474  2022-04-11 01:02:49+00:00  2022-04-11  01:02:49   \n",
              "1  1513303462796271616  2022-04-10 23:50:36+00:00  2022-04-10  23:50:36   \n",
              "2  1513285115522457600  2022-04-10 22:37:41+00:00  2022-04-10  22:37:41   \n",
              "3  1513254396989108226  2022-04-10 20:35:37+00:00  2022-04-10  20:35:37   \n",
              "4  1513127072264519686  2022-04-10 12:09:41+00:00  2022-04-10  12:09:41   \n",
              "\n",
              "          username                                              name  \\\n",
              "0     parkesstreet                                        Bernie Cox   \n",
              "1    shanebakeract                                       Shane Baker   \n",
              "2        pceebee23                                          ceebee23   \n",
              "3       russputin2  Russell Drysdale # IStandbyDan, Louise &Brittany   \n",
              "4  gabrielschind13                                               Gab   \n",
              "\n",
              "                                               tweet language hashtags  \\\n",
              "0  australianlabor fraser government destroyed or...       en       []   \n",
              "1  luckiephil1 vince05656201 liberalaus actually ...       en       []   \n",
              "2  kels316 australianlabor fair greens labor prob...       en       []   \n",
              "3  greghuntmp actually greg labor invented pbs ye...       en       []   \n",
              "4  rheenie85 dont education medibank medicare nbn...       en       []   \n",
              "\n",
              "   word_count_function  char_count  avg_word  \n",
              "0                   26       190.0  6.600000  \n",
              "1                   21       150.0  6.190476  \n",
              "2                   52       307.0  4.923077  \n",
              "3                   48       297.0  5.208333  \n",
              "4                   22       132.0  5.285714  "
            ],
            "text/html": [
              "\n",
              "  <div id=\"df-7959f42e-abd9-44bf-98e4-94e1adc7bccd\">\n",
              "    <div class=\"colab-df-container\">\n",
              "      <div>\n",
              "<style scoped>\n",
              "    .dataframe tbody tr th:only-of-type {\n",
              "        vertical-align: middle;\n",
              "    }\n",
              "\n",
              "    .dataframe tbody tr th {\n",
              "        vertical-align: top;\n",
              "    }\n",
              "\n",
              "    .dataframe thead th {\n",
              "        text-align: right;\n",
              "    }\n",
              "</style>\n",
              "<table border=\"1\" class=\"dataframe\">\n",
              "  <thead>\n",
              "    <tr style=\"text-align: right;\">\n",
              "      <th></th>\n",
              "      <th>id</th>\n",
              "      <th>created_at</th>\n",
              "      <th>date</th>\n",
              "      <th>time</th>\n",
              "      <th>username</th>\n",
              "      <th>name</th>\n",
              "      <th>tweet</th>\n",
              "      <th>language</th>\n",
              "      <th>hashtags</th>\n",
              "      <th>word_count_function</th>\n",
              "      <th>char_count</th>\n",
              "      <th>avg_word</th>\n",
              "    </tr>\n",
              "  </thead>\n",
              "  <tbody>\n",
              "    <tr>\n",
              "      <th>0</th>\n",
              "      <td>1513321640431550474</td>\n",
              "      <td>2022-04-11 01:02:49+00:00</td>\n",
              "      <td>2022-04-11</td>\n",
              "      <td>01:02:49</td>\n",
              "      <td>parkesstreet</td>\n",
              "      <td>Bernie Cox</td>\n",
              "      <td>australianlabor fraser government destroyed or...</td>\n",
              "      <td>en</td>\n",
              "      <td>[]</td>\n",
              "      <td>26</td>\n",
              "      <td>190.0</td>\n",
              "      <td>6.600000</td>\n",
              "    </tr>\n",
              "    <tr>\n",
              "      <th>1</th>\n",
              "      <td>1513303462796271616</td>\n",
              "      <td>2022-04-10 23:50:36+00:00</td>\n",
              "      <td>2022-04-10</td>\n",
              "      <td>23:50:36</td>\n",
              "      <td>shanebakeract</td>\n",
              "      <td>Shane Baker</td>\n",
              "      <td>luckiephil1 vince05656201 liberalaus actually ...</td>\n",
              "      <td>en</td>\n",
              "      <td>[]</td>\n",
              "      <td>21</td>\n",
              "      <td>150.0</td>\n",
              "      <td>6.190476</td>\n",
              "    </tr>\n",
              "    <tr>\n",
              "      <th>2</th>\n",
              "      <td>1513285115522457600</td>\n",
              "      <td>2022-04-10 22:37:41+00:00</td>\n",
              "      <td>2022-04-10</td>\n",
              "      <td>22:37:41</td>\n",
              "      <td>pceebee23</td>\n",
              "      <td>ceebee23</td>\n",
              "      <td>kels316 australianlabor fair greens labor prob...</td>\n",
              "      <td>en</td>\n",
              "      <td>[]</td>\n",
              "      <td>52</td>\n",
              "      <td>307.0</td>\n",
              "      <td>4.923077</td>\n",
              "    </tr>\n",
              "    <tr>\n",
              "      <th>3</th>\n",
              "      <td>1513254396989108226</td>\n",
              "      <td>2022-04-10 20:35:37+00:00</td>\n",
              "      <td>2022-04-10</td>\n",
              "      <td>20:35:37</td>\n",
              "      <td>russputin2</td>\n",
              "      <td>Russell Drysdale # IStandbyDan, Louise &amp;Brittany</td>\n",
              "      <td>greghuntmp actually greg labor invented pbs ye...</td>\n",
              "      <td>en</td>\n",
              "      <td>[]</td>\n",
              "      <td>48</td>\n",
              "      <td>297.0</td>\n",
              "      <td>5.208333</td>\n",
              "    </tr>\n",
              "    <tr>\n",
              "      <th>4</th>\n",
              "      <td>1513127072264519686</td>\n",
              "      <td>2022-04-10 12:09:41+00:00</td>\n",
              "      <td>2022-04-10</td>\n",
              "      <td>12:09:41</td>\n",
              "      <td>gabrielschind13</td>\n",
              "      <td>Gab</td>\n",
              "      <td>rheenie85 dont education medibank medicare nbn...</td>\n",
              "      <td>en</td>\n",
              "      <td>[]</td>\n",
              "      <td>22</td>\n",
              "      <td>132.0</td>\n",
              "      <td>5.285714</td>\n",
              "    </tr>\n",
              "  </tbody>\n",
              "</table>\n",
              "</div>\n",
              "      <button class=\"colab-df-convert\" onclick=\"convertToInteractive('df-7959f42e-abd9-44bf-98e4-94e1adc7bccd')\"\n",
              "              title=\"Convert this dataframe to an interactive table.\"\n",
              "              style=\"display:none;\">\n",
              "        \n",
              "  <svg xmlns=\"http://www.w3.org/2000/svg\" height=\"24px\"viewBox=\"0 0 24 24\"\n",
              "       width=\"24px\">\n",
              "    <path d=\"M0 0h24v24H0V0z\" fill=\"none\"/>\n",
              "    <path d=\"M18.56 5.44l.94 2.06.94-2.06 2.06-.94-2.06-.94-.94-2.06-.94 2.06-2.06.94zm-11 1L8.5 8.5l.94-2.06 2.06-.94-2.06-.94L8.5 2.5l-.94 2.06-2.06.94zm10 10l.94 2.06.94-2.06 2.06-.94-2.06-.94-.94-2.06-.94 2.06-2.06.94z\"/><path d=\"M17.41 7.96l-1.37-1.37c-.4-.4-.92-.59-1.43-.59-.52 0-1.04.2-1.43.59L10.3 9.45l-7.72 7.72c-.78.78-.78 2.05 0 2.83L4 21.41c.39.39.9.59 1.41.59.51 0 1.02-.2 1.41-.59l7.78-7.78 2.81-2.81c.8-.78.8-2.07 0-2.86zM5.41 20L4 18.59l7.72-7.72 1.47 1.35L5.41 20z\"/>\n",
              "  </svg>\n",
              "      </button>\n",
              "      \n",
              "  <style>\n",
              "    .colab-df-container {\n",
              "      display:flex;\n",
              "      flex-wrap:wrap;\n",
              "      gap: 12px;\n",
              "    }\n",
              "\n",
              "    .colab-df-convert {\n",
              "      background-color: #E8F0FE;\n",
              "      border: none;\n",
              "      border-radius: 50%;\n",
              "      cursor: pointer;\n",
              "      display: none;\n",
              "      fill: #1967D2;\n",
              "      height: 32px;\n",
              "      padding: 0 0 0 0;\n",
              "      width: 32px;\n",
              "    }\n",
              "\n",
              "    .colab-df-convert:hover {\n",
              "      background-color: #E2EBFA;\n",
              "      box-shadow: 0px 1px 2px rgba(60, 64, 67, 0.3), 0px 1px 3px 1px rgba(60, 64, 67, 0.15);\n",
              "      fill: #174EA6;\n",
              "    }\n",
              "\n",
              "    [theme=dark] .colab-df-convert {\n",
              "      background-color: #3B4455;\n",
              "      fill: #D2E3FC;\n",
              "    }\n",
              "\n",
              "    [theme=dark] .colab-df-convert:hover {\n",
              "      background-color: #434B5C;\n",
              "      box-shadow: 0px 1px 3px 1px rgba(0, 0, 0, 0.15);\n",
              "      filter: drop-shadow(0px 1px 2px rgba(0, 0, 0, 0.3));\n",
              "      fill: #FFFFFF;\n",
              "    }\n",
              "  </style>\n",
              "\n",
              "      <script>\n",
              "        const buttonEl =\n",
              "          document.querySelector('#df-7959f42e-abd9-44bf-98e4-94e1adc7bccd button.colab-df-convert');\n",
              "        buttonEl.style.display =\n",
              "          google.colab.kernel.accessAllowed ? 'block' : 'none';\n",
              "\n",
              "        async function convertToInteractive(key) {\n",
              "          const element = document.querySelector('#df-7959f42e-abd9-44bf-98e4-94e1adc7bccd');\n",
              "          const dataTable =\n",
              "            await google.colab.kernel.invokeFunction('convertToInteractive',\n",
              "                                                     [key], {});\n",
              "          if (!dataTable) return;\n",
              "\n",
              "          const docLinkHtml = 'Like what you see? Visit the ' +\n",
              "            '<a target=\"_blank\" href=https://colab.research.google.com/notebooks/data_table.ipynb>data table notebook</a>'\n",
              "            + ' to learn more about interactive tables.';\n",
              "          element.innerHTML = '';\n",
              "          dataTable['output_type'] = 'display_data';\n",
              "          await google.colab.output.renderOutput(dataTable, element);\n",
              "          const docLink = document.createElement('div');\n",
              "          docLink.innerHTML = docLinkHtml;\n",
              "          element.appendChild(docLink);\n",
              "        }\n",
              "      </script>\n",
              "    </div>\n",
              "  </div>\n",
              "  "
            ]
          },
          "metadata": {},
          "execution_count": 185
        }
      ]
    },
    {
      "cell_type": "markdown",
      "source": [
        "### Stemming"
      ],
      "metadata": {
        "id": "GYmD8rNHjeXQ"
      }
    },
    {
      "cell_type": "code",
      "source": [
        "from nltk.stem import PorterStemmer"
      ],
      "metadata": {
        "id": "-wO-VEcRVh7j",
        "colab": {
          "base_uri": "https://localhost:8080/"
        },
        "outputId": "c304d958-04ff-4761-fbb5-f3c28ae798b3"
      },
      "execution_count": null,
      "outputs": [
        {
          "output_type": "stream",
          "name": "stderr",
          "text": [
            "/usr/local/lib/python3.9/dist-packages/ipykernel/ipkernel.py:283: DeprecationWarning: `should_run_async` will not call `transform_cell` automatically in the future. Please pass the result to `transformed_cell` argument and any exception that happen during thetransform in `preprocessing_exc_tuple` in IPython 7.17 and above.\n",
            "  and should_run_async(code)\n"
          ]
        }
      ]
    },
    {
      "cell_type": "code",
      "source": [
        "# using stemming to standardize tweets\n",
        "stemmer = PorterStemmer()\n",
        "\n",
        "def stemming_function(sent):\n",
        "  word_list = sent.split()\n",
        "  stemmed_word_list = [stemmer.stem(word) for word in word_list]\n",
        "  stemmed_sentence = \" \".join(stemmed_word_list)\n",
        "  return stemmed_sentence\n",
        "\n",
        "df_medibank['tweet_stemmed'] = df_medibank['tweet'].apply(stemming_function)\n",
        "df_medibank.head(10)"
      ],
      "metadata": {
        "id": "Z2AXAjKsUr3H"
      },
      "execution_count": null,
      "outputs": []
    },
    {
      "cell_type": "markdown",
      "source": [
        "### Lemmatization"
      ],
      "metadata": {
        "id": "2iukx9j2kM7U"
      }
    },
    {
      "cell_type": "code",
      "source": [
        "# Download wordnet\n",
        "nltk.download('wordnet')\n",
        "nltk.download('omw-1.4')"
      ],
      "metadata": {
        "colab": {
          "base_uri": "https://localhost:8080/"
        },
        "id": "QvvtlzLXkUEv",
        "outputId": "ed137db0-03ef-4f27-c829-96f381d54cdc"
      },
      "execution_count": null,
      "outputs": [
        {
          "output_type": "stream",
          "name": "stderr",
          "text": [
            "/usr/local/lib/python3.9/dist-packages/ipykernel/ipkernel.py:283: DeprecationWarning: `should_run_async` will not call `transform_cell` automatically in the future. Please pass the result to `transformed_cell` argument and any exception that happen during thetransform in `preprocessing_exc_tuple` in IPython 7.17 and above.\n",
            "  and should_run_async(code)\n",
            "[nltk_data] Downloading package wordnet to /root/nltk_data...\n",
            "[nltk_data]   Package wordnet is already up-to-date!\n",
            "[nltk_data] Downloading package omw-1.4 to /root/nltk_data...\n",
            "[nltk_data]   Package omw-1.4 is already up-to-date!\n"
          ]
        },
        {
          "output_type": "execute_result",
          "data": {
            "text/plain": [
              "True"
            ]
          },
          "metadata": {},
          "execution_count": 188
        }
      ]
    },
    {
      "cell_type": "code",
      "source": [
        "from nltk.stem import WordNetLemmatizer\n",
        "\n",
        "lemmtizer = WordNetLemmatizer()"
      ],
      "metadata": {
        "colab": {
          "base_uri": "https://localhost:8080/"
        },
        "id": "zJl1xm5vkWOq",
        "outputId": "42f88f57-afc8-480a-8c4e-a021bf1bea21"
      },
      "execution_count": null,
      "outputs": [
        {
          "output_type": "stream",
          "name": "stderr",
          "text": [
            "/usr/local/lib/python3.9/dist-packages/ipykernel/ipkernel.py:283: DeprecationWarning: `should_run_async` will not call `transform_cell` automatically in the future. Please pass the result to `transformed_cell` argument and any exception that happen during thetransform in `preprocessing_exc_tuple` in IPython 7.17 and above.\n",
            "  and should_run_async(code)\n"
          ]
        }
      ]
    },
    {
      "cell_type": "code",
      "source": [
        "# use lemmatization to standardize tweets\n",
        "def lemmatize_function(sent):\n",
        "  word_list = sent.split()\n",
        "  lemma_word_list = [lemmtizer.lemmatize(word) for word in word_list]\n",
        "  lemma_sentence = \" \".join(lemma_word_list)\n",
        "  return lemma_sentence\n",
        "\n",
        "df_medibank['tweet_lemmatized'] = df_medibank['tweet'].apply(lemmatize_function)"
      ],
      "metadata": {
        "colab": {
          "base_uri": "https://localhost:8080/"
        },
        "id": "9PZZT-pRkXLc",
        "outputId": "2d3ed9f2-3da4-47d0-df78-a3e54d5de00f"
      },
      "execution_count": null,
      "outputs": [
        {
          "output_type": "stream",
          "name": "stderr",
          "text": [
            "/usr/local/lib/python3.9/dist-packages/ipykernel/ipkernel.py:283: DeprecationWarning: `should_run_async` will not call `transform_cell` automatically in the future. Please pass the result to `transformed_cell` argument and any exception that happen during thetransform in `preprocessing_exc_tuple` in IPython 7.17 and above.\n",
            "  and should_run_async(code)\n",
            "<ipython-input-190-c1977aa00ab9>:7: SettingWithCopyWarning: \n",
            "A value is trying to be set on a copy of a slice from a DataFrame.\n",
            "Try using .loc[row_indexer,col_indexer] = value instead\n",
            "\n",
            "See the caveats in the documentation: https://pandas.pydata.org/pandas-docs/stable/user_guide/indexing.html#returning-a-view-versus-a-copy\n",
            "  df_medibank['tweet_lemmatized'] = df_medibank['tweet'].apply(lemmatize_function)\n"
          ]
        }
      ]
    },
    {
      "cell_type": "code",
      "source": [
        "# Display original Tweet, stemmed Tweet and lemmatized Tweet\n",
        "df_medibank[['tweet', 'tweet_stemmed', 'tweet_lemmatized']].head(10)"
      ],
      "metadata": {
        "colab": {
          "base_uri": "https://localhost:8080/",
          "height": 417
        },
        "id": "7EnDI50RkdBU",
        "outputId": "ec2d8427-82cc-4595-c95d-53610defc519"
      },
      "execution_count": null,
      "outputs": [
        {
          "output_type": "stream",
          "name": "stderr",
          "text": [
            "/usr/local/lib/python3.9/dist-packages/ipykernel/ipkernel.py:283: DeprecationWarning: `should_run_async` will not call `transform_cell` automatically in the future. Please pass the result to `transformed_cell` argument and any exception that happen during thetransform in `preprocessing_exc_tuple` in IPython 7.17 and above.\n",
            "  and should_run_async(code)\n"
          ]
        },
        {
          "output_type": "execute_result",
          "data": {
            "text/plain": [
              "                                               tweet  \\\n",
              "0  australianlabor fraser government destroyed or...   \n",
              "1  luckiephil1 vince05656201 liberalaus actually ...   \n",
              "2  kels316 australianlabor fair greens labor prob...   \n",
              "3  greghuntmp actually greg labor invented pbs ye...   \n",
              "4  rheenie85 dont education medibank medicare nbn...   \n",
              "5         medibank waiting period httpstcowjatlcqo4n   \n",
              "6  newtonmark kels316 frankly amazing quickly ent...   \n",
              "7  slow metabolism cause weight gain medibank eas...   \n",
              "8  jjkale2 free university tafe medibank opposed ...   \n",
              "9  richardmarlesmp labor always party focused hea...   \n",
              "\n",
              "                                       tweet_stemmed  \\\n",
              "0  australianlabor fraser govern destroy origin m...   \n",
              "1  luckiephil1 vince05656201 liberalau actual whi...   \n",
              "2  kels316 australianlabor fair green labor probl...   \n",
              "3  greghuntmp actual greg labor invent pb year ag...   \n",
              "4  rheenie85 dont educ medibank medicar nbn slow ...   \n",
              "5            medibank wait period httpstcowjatlcqo4n   \n",
              "6  newtonmark kels316 frankli amaz quickli entir ...   \n",
              "7  slow metabol caus weight gain medibank east el...   \n",
              "8  jjkale2 free univers tafe medibank oppos vietn...   \n",
              "9  richardmarlesmp labor alway parti focus health...   \n",
              "\n",
              "                                    tweet_lemmatized  \n",
              "0  australianlabor fraser government destroyed or...  \n",
              "1  luckiephil1 vince05656201 liberalaus actually ...  \n",
              "2  kels316 australianlabor fair green labor probl...  \n",
              "3  greghuntmp actually greg labor invented pb yea...  \n",
              "4  rheenie85 dont education medibank medicare nbn...  \n",
              "5         medibank waiting period httpstcowjatlcqo4n  \n",
              "6  newtonmark kels316 frankly amazing quickly ent...  \n",
              "7  slow metabolism cause weight gain medibank eas...  \n",
              "8  jjkale2 free university tafe medibank opposed ...  \n",
              "9  richardmarlesmp labor always party focused hea...  "
            ],
            "text/html": [
              "\n",
              "  <div id=\"df-acf83e7b-6e79-4e3a-87d7-29647395acaa\">\n",
              "    <div class=\"colab-df-container\">\n",
              "      <div>\n",
              "<style scoped>\n",
              "    .dataframe tbody tr th:only-of-type {\n",
              "        vertical-align: middle;\n",
              "    }\n",
              "\n",
              "    .dataframe tbody tr th {\n",
              "        vertical-align: top;\n",
              "    }\n",
              "\n",
              "    .dataframe thead th {\n",
              "        text-align: right;\n",
              "    }\n",
              "</style>\n",
              "<table border=\"1\" class=\"dataframe\">\n",
              "  <thead>\n",
              "    <tr style=\"text-align: right;\">\n",
              "      <th></th>\n",
              "      <th>tweet</th>\n",
              "      <th>tweet_stemmed</th>\n",
              "      <th>tweet_lemmatized</th>\n",
              "    </tr>\n",
              "  </thead>\n",
              "  <tbody>\n",
              "    <tr>\n",
              "      <th>0</th>\n",
              "      <td>australianlabor fraser government destroyed or...</td>\n",
              "      <td>australianlabor fraser govern destroy origin m...</td>\n",
              "      <td>australianlabor fraser government destroyed or...</td>\n",
              "    </tr>\n",
              "    <tr>\n",
              "      <th>1</th>\n",
              "      <td>luckiephil1 vince05656201 liberalaus actually ...</td>\n",
              "      <td>luckiephil1 vince05656201 liberalau actual whi...</td>\n",
              "      <td>luckiephil1 vince05656201 liberalaus actually ...</td>\n",
              "    </tr>\n",
              "    <tr>\n",
              "      <th>2</th>\n",
              "      <td>kels316 australianlabor fair greens labor prob...</td>\n",
              "      <td>kels316 australianlabor fair green labor probl...</td>\n",
              "      <td>kels316 australianlabor fair green labor probl...</td>\n",
              "    </tr>\n",
              "    <tr>\n",
              "      <th>3</th>\n",
              "      <td>greghuntmp actually greg labor invented pbs ye...</td>\n",
              "      <td>greghuntmp actual greg labor invent pb year ag...</td>\n",
              "      <td>greghuntmp actually greg labor invented pb yea...</td>\n",
              "    </tr>\n",
              "    <tr>\n",
              "      <th>4</th>\n",
              "      <td>rheenie85 dont education medibank medicare nbn...</td>\n",
              "      <td>rheenie85 dont educ medibank medicar nbn slow ...</td>\n",
              "      <td>rheenie85 dont education medibank medicare nbn...</td>\n",
              "    </tr>\n",
              "    <tr>\n",
              "      <th>5</th>\n",
              "      <td>medibank waiting period httpstcowjatlcqo4n</td>\n",
              "      <td>medibank wait period httpstcowjatlcqo4n</td>\n",
              "      <td>medibank waiting period httpstcowjatlcqo4n</td>\n",
              "    </tr>\n",
              "    <tr>\n",
              "      <th>6</th>\n",
              "      <td>newtonmark kels316 frankly amazing quickly ent...</td>\n",
              "      <td>newtonmark kels316 frankli amaz quickli entir ...</td>\n",
              "      <td>newtonmark kels316 frankly amazing quickly ent...</td>\n",
              "    </tr>\n",
              "    <tr>\n",
              "      <th>7</th>\n",
              "      <td>slow metabolism cause weight gain medibank eas...</td>\n",
              "      <td>slow metabol caus weight gain medibank east el...</td>\n",
              "      <td>slow metabolism cause weight gain medibank eas...</td>\n",
              "    </tr>\n",
              "    <tr>\n",
              "      <th>8</th>\n",
              "      <td>jjkale2 free university tafe medibank opposed ...</td>\n",
              "      <td>jjkale2 free univers tafe medibank oppos vietn...</td>\n",
              "      <td>jjkale2 free university tafe medibank opposed ...</td>\n",
              "    </tr>\n",
              "    <tr>\n",
              "      <th>9</th>\n",
              "      <td>richardmarlesmp labor always party focused hea...</td>\n",
              "      <td>richardmarlesmp labor alway parti focus health...</td>\n",
              "      <td>richardmarlesmp labor always party focused hea...</td>\n",
              "    </tr>\n",
              "  </tbody>\n",
              "</table>\n",
              "</div>\n",
              "      <button class=\"colab-df-convert\" onclick=\"convertToInteractive('df-acf83e7b-6e79-4e3a-87d7-29647395acaa')\"\n",
              "              title=\"Convert this dataframe to an interactive table.\"\n",
              "              style=\"display:none;\">\n",
              "        \n",
              "  <svg xmlns=\"http://www.w3.org/2000/svg\" height=\"24px\"viewBox=\"0 0 24 24\"\n",
              "       width=\"24px\">\n",
              "    <path d=\"M0 0h24v24H0V0z\" fill=\"none\"/>\n",
              "    <path d=\"M18.56 5.44l.94 2.06.94-2.06 2.06-.94-2.06-.94-.94-2.06-.94 2.06-2.06.94zm-11 1L8.5 8.5l.94-2.06 2.06-.94-2.06-.94L8.5 2.5l-.94 2.06-2.06.94zm10 10l.94 2.06.94-2.06 2.06-.94-2.06-.94-.94-2.06-.94 2.06-2.06.94z\"/><path d=\"M17.41 7.96l-1.37-1.37c-.4-.4-.92-.59-1.43-.59-.52 0-1.04.2-1.43.59L10.3 9.45l-7.72 7.72c-.78.78-.78 2.05 0 2.83L4 21.41c.39.39.9.59 1.41.59.51 0 1.02-.2 1.41-.59l7.78-7.78 2.81-2.81c.8-.78.8-2.07 0-2.86zM5.41 20L4 18.59l7.72-7.72 1.47 1.35L5.41 20z\"/>\n",
              "  </svg>\n",
              "      </button>\n",
              "      \n",
              "  <style>\n",
              "    .colab-df-container {\n",
              "      display:flex;\n",
              "      flex-wrap:wrap;\n",
              "      gap: 12px;\n",
              "    }\n",
              "\n",
              "    .colab-df-convert {\n",
              "      background-color: #E8F0FE;\n",
              "      border: none;\n",
              "      border-radius: 50%;\n",
              "      cursor: pointer;\n",
              "      display: none;\n",
              "      fill: #1967D2;\n",
              "      height: 32px;\n",
              "      padding: 0 0 0 0;\n",
              "      width: 32px;\n",
              "    }\n",
              "\n",
              "    .colab-df-convert:hover {\n",
              "      background-color: #E2EBFA;\n",
              "      box-shadow: 0px 1px 2px rgba(60, 64, 67, 0.3), 0px 1px 3px 1px rgba(60, 64, 67, 0.15);\n",
              "      fill: #174EA6;\n",
              "    }\n",
              "\n",
              "    [theme=dark] .colab-df-convert {\n",
              "      background-color: #3B4455;\n",
              "      fill: #D2E3FC;\n",
              "    }\n",
              "\n",
              "    [theme=dark] .colab-df-convert:hover {\n",
              "      background-color: #434B5C;\n",
              "      box-shadow: 0px 1px 3px 1px rgba(0, 0, 0, 0.15);\n",
              "      filter: drop-shadow(0px 1px 2px rgba(0, 0, 0, 0.3));\n",
              "      fill: #FFFFFF;\n",
              "    }\n",
              "  </style>\n",
              "\n",
              "      <script>\n",
              "        const buttonEl =\n",
              "          document.querySelector('#df-acf83e7b-6e79-4e3a-87d7-29647395acaa button.colab-df-convert');\n",
              "        buttonEl.style.display =\n",
              "          google.colab.kernel.accessAllowed ? 'block' : 'none';\n",
              "\n",
              "        async function convertToInteractive(key) {\n",
              "          const element = document.querySelector('#df-acf83e7b-6e79-4e3a-87d7-29647395acaa');\n",
              "          const dataTable =\n",
              "            await google.colab.kernel.invokeFunction('convertToInteractive',\n",
              "                                                     [key], {});\n",
              "          if (!dataTable) return;\n",
              "\n",
              "          const docLinkHtml = 'Like what you see? Visit the ' +\n",
              "            '<a target=\"_blank\" href=https://colab.research.google.com/notebooks/data_table.ipynb>data table notebook</a>'\n",
              "            + ' to learn more about interactive tables.';\n",
              "          element.innerHTML = '';\n",
              "          dataTable['output_type'] = 'display_data';\n",
              "          await google.colab.output.renderOutput(dataTable, element);\n",
              "          const docLink = document.createElement('div');\n",
              "          docLink.innerHTML = docLinkHtml;\n",
              "          element.appendChild(docLink);\n",
              "        }\n",
              "      </script>\n",
              "    </div>\n",
              "  </div>\n",
              "  "
            ]
          },
          "metadata": {},
          "execution_count": 191
        }
      ]
    },
    {
      "cell_type": "markdown",
      "source": [
        "## Word Frequency Analysis"
      ],
      "metadata": {
        "id": "t8X93-AvlMuQ"
      }
    },
    {
      "cell_type": "code",
      "source": [
        "# Create a word frequency series. (This is a pandas series)\n",
        "word_frequency = pd.Series(' '.join(df_medibank['tweet']).split()).value_counts()"
      ],
      "metadata": {
        "colab": {
          "base_uri": "https://localhost:8080/"
        },
        "id": "qS6bz1keVdqA",
        "outputId": "91abae31-f832-40d2-c41f-7debb0e0ed29"
      },
      "execution_count": null,
      "outputs": [
        {
          "output_type": "stream",
          "name": "stderr",
          "text": [
            "/usr/local/lib/python3.9/dist-packages/ipykernel/ipkernel.py:283: DeprecationWarning: `should_run_async` will not call `transform_cell` automatically in the future. Please pass the result to `transformed_cell` argument and any exception that happen during thetransform in `preprocessing_exc_tuple` in IPython 7.17 and above.\n",
            "  and should_run_async(code)\n"
          ]
        }
      ]
    },
    {
      "cell_type": "markdown",
      "source": [
        "### Top 10 Common Words"
      ],
      "metadata": {
        "id": "E3BQ6XwqmCd4"
      }
    },
    {
      "cell_type": "code",
      "source": [
        "# Look at the top 10 words\n",
        "word_frequency[:10]"
      ],
      "metadata": {
        "colab": {
          "base_uri": "https://localhost:8080/"
        },
        "id": "Aw539y78lpB4",
        "outputId": "d5f0befa-be42-4efd-87eb-5fb8e20701dd"
      },
      "execution_count": null,
      "outputs": [
        {
          "output_type": "stream",
          "name": "stderr",
          "text": [
            "/usr/local/lib/python3.9/dist-packages/ipykernel/ipkernel.py:283: DeprecationWarning: `should_run_async` will not call `transform_cell` automatically in the future. Please pass the result to `transformed_cell` argument and any exception that happen during thetransform in `preprocessing_exc_tuple` in IPython 7.17 and above.\n",
            "  and should_run_async(code)\n"
          ]
        },
        {
          "output_type": "execute_result",
          "data": {
            "text/plain": [
              "medibank     17954\n",
              "health        3766\n",
              "private       2609\n",
              "amp           1913\n",
              "not           1833\n",
              "medicare      1776\n",
              "us            1690\n",
              "insurance     1677\n",
              "hi            1361\n",
              "get           1183\n",
              "dtype: int64"
            ]
          },
          "metadata": {},
          "execution_count": 193
        }
      ]
    },
    {
      "cell_type": "code",
      "source": [
        "# Visualize the top word counts\n",
        "\n",
        "word_count  = word_frequency\n",
        "word_count = word_count[:10,]\n",
        "plt.figure(figsize=(10,5))\n",
        "sns.barplot(x=word_count.index, y=word_count.values, alpha=0.8)\n",
        "plt.title('Tweets in top 10 words')\n",
        "plt.ylabel('Number of Occurrences', fontsize=12)\n",
        "plt.xlabel('Word', fontsize=12)\n",
        "plt.show()"
      ],
      "metadata": {
        "colab": {
          "base_uri": "https://localhost:8080/",
          "height": 546
        },
        "id": "wNHqeWckWHqu",
        "outputId": "77a2f023-6033-4c8c-d3ee-304499445175"
      },
      "execution_count": null,
      "outputs": [
        {
          "output_type": "stream",
          "name": "stderr",
          "text": [
            "/usr/local/lib/python3.9/dist-packages/ipykernel/ipkernel.py:283: DeprecationWarning: `should_run_async` will not call `transform_cell` automatically in the future. Please pass the result to `transformed_cell` argument and any exception that happen during thetransform in `preprocessing_exc_tuple` in IPython 7.17 and above.\n",
            "  and should_run_async(code)\n"
          ]
        },
        {
          "output_type": "display_data",
          "data": {
            "text/plain": [
              "<Figure size 1000x500 with 1 Axes>"
            ],
            "image/png": "[encoded data removed]"
          },
          "metadata": {}
        }
      ]
    },
    {
      "cell_type": "markdown",
      "source": [
        "### Top 10 Rare Words"
      ],
      "metadata": {
        "id": "m-3ZkbXdmLgm"
      }
    },
    {
      "cell_type": "code",
      "source": [
        "# least common words\n",
        "word_frequency[-10:]  # get bottom 10"
      ],
      "metadata": {
        "colab": {
          "base_uri": "https://localhost:8080/"
        },
        "id": "lMd-KX5flqew",
        "outputId": "2f407d3d-3462-4ff1-8222-3f666bca90f2"
      },
      "execution_count": null,
      "outputs": [
        {
          "output_type": "stream",
          "name": "stderr",
          "text": [
            "/usr/local/lib/python3.9/dist-packages/ipykernel/ipkernel.py:283: DeprecationWarning: `should_run_async` will not call `transform_cell` automatically in the future. Please pass the result to `transformed_cell` argument and any exception that happen during thetransform in `preprocessing_exc_tuple` in IPython 7.17 and above.\n",
            "  and should_run_async(code)\n"
          ]
        },
        {
          "output_type": "execute_result",
          "data": {
            "text/plain": [
              "httpstco7jccpjzlpu    1\n",
              "corgis                1\n",
              "httpstcowqzgqv9lox    1\n",
              "tyrannosros           1\n",
              "aud3kyr               1\n",
              "aud256month           1\n",
              "nymilitant            1\n",
              "herbert59321608       1\n",
              "danmcguigan123        1\n",
              "kkppi                 1\n",
              "dtype: int64"
            ]
          },
          "metadata": {},
          "execution_count": 195
        }
      ]
    },
    {
      "cell_type": "code",
      "source": [
        "from wordcloud import WordCloud"
      ],
      "metadata": {
        "colab": {
          "base_uri": "https://localhost:8080/"
        },
        "id": "cBHO17N50wcp",
        "outputId": "d5c5b71c-b58a-4061-a936-9a0d00720710"
      },
      "execution_count": null,
      "outputs": [
        {
          "output_type": "stream",
          "name": "stderr",
          "text": [
            "/usr/local/lib/python3.9/dist-packages/ipykernel/ipkernel.py:283: DeprecationWarning: `should_run_async` will not call `transform_cell` automatically in the future. Please pass the result to `transformed_cell` argument and any exception that happen during thetransform in `preprocessing_exc_tuple` in IPython 7.17 and above.\n",
            "  and should_run_async(code)\n"
          ]
        }
      ]
    },
    {
      "cell_type": "code",
      "source": [
        "##########\n",
        "corpus = list(df_medibank['tweet'])\n",
        "\n",
        "wordcloud = WordCloud(background_color='white', max_words=200, max_font_size=50, random_state=42).generate(str(corpus))\n",
        "\n",
        "fig = plt.figure(1)\n",
        "plt.imshow(wordcloud)\n",
        "plt.axis('off')\n",
        "plt.show()"
      ],
      "metadata": {
        "colab": {
          "base_uri": "https://localhost:8080/",
          "height": 374
        },
        "id": "myzUNmWDWiiq",
        "outputId": "2331ba6e-37e0-4dad-e11c-018036c219a2"
      },
      "execution_count": null,
      "outputs": [
        {
          "output_type": "stream",
          "name": "stderr",
          "text": [
            "/usr/local/lib/python3.9/dist-packages/ipykernel/ipkernel.py:283: DeprecationWarning: `should_run_async` will not call `transform_cell` automatically in the future. Please pass the result to `transformed_cell` argument and any exception that happen during thetransform in `preprocessing_exc_tuple` in IPython 7.17 and above.\n",
            "  and should_run_async(code)\n",
            "/usr/local/lib/python3.9/dist-packages/wordcloud/wordcloud.py:106: MatplotlibDeprecationWarning: The get_cmap function was deprecated in Matplotlib 3.7 and will be removed two minor releases later. Use ``matplotlib.colormaps[name]`` or ``matplotlib.colormaps.get_cmap(obj)`` instead.\n",
            "  self.colormap = plt.cm.get_cmap(colormap)\n"
          ]
        },
        {
          "output_type": "display_data",
          "data": {
            "text/plain": [
              "<Figure size 640x480 with 1 Axes>"
            ],
            "image/png": "[encoded data removed]"
          },
          "metadata": {}
        }
      ]
    }
  ]
}